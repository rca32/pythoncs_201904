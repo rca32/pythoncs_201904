{
  "nbformat": 4,
  "nbformat_minor": 0,
  "metadata": {
    "colab": {
      "name": "w04 함수 1",
      "version": "0.3.2",
      "provenance": [],
      "include_colab_link": true
    },
    "kernelspec": {
      "name": "python3",
      "display_name": "Python 3"
    }
  },
  "cells": [
    {
      "cell_type": "markdown",
      "metadata": {
        "id": "view-in-github",
        "colab_type": "text"
      },
      "source": [
        "<a href=\"https://colab.research.google.com/github/rca32/pythoncs_201904/blob/master/w04_%ED%95%A8%EC%88%98_1.ipynb\" target=\"_parent\"><img src=\"https://colab.research.google.com/assets/colab-badge.svg\" alt=\"Open In Colab\"/></a>"
      ]
    },
    {
      "cell_type": "markdown",
      "metadata": {
        "id": "lxVNlzYE5yJG",
        "colab_type": "text"
      },
      "source": [
        " [참조](https://dojang.io/mod/page/view.php?id=2337)\n",
        "\n",
        "#함수 사용하기\n",
        "프로그래밍을 하다 보면 들어가는 값만 바뀔 뿐 같은 코드가 계속 반복되는 경우가 많습니다. 특히 같은 코드를 반복해서 작성하면 코드도 길어지고 중간에 실수할 가능성이 높아집니다.\n",
        "\n",
        "파이썬은 함수(function)라는 기능을 제공하는데 특정 용도의 코드를 한 곳에 모아 놓은 것을 뜻합니다. 그래서 함수는 처음 한 번만 작성해 놓으면 나중에 필요할 때 계속 불러 쓸 수 있습니다. 예를 들어 지금까지 사용했던 print, input 등도 모두 파이썬에서 미리 만들어 둔 함수입니다.\n",
        "\n",
        "즉, 함수를 사용하면 이런 점이 좋습니다.\n",
        "\n",
        "*   코드의 용도를 구분할 수 있다.\n",
        "*   코드를 재사용할 수 있다.\n",
        "*   실수를 줄일 수 있다.\n",
        "\n",
        "\n",
        "\n",
        "함수는 다양한 사용 방법이 있으므로 이제부터 각 유닛에서 함수의 사용법을 자세히 알아보겠습니다.\n"
      ]
    },
    {
      "cell_type": "markdown",
      "metadata": {
        "id": "ZbrubSbL6MHU",
        "colab_type": "text"
      },
      "source": [
        "##Hello, world! 출력 함수 만들기\n",
        "함수는 def에 함수 이름을 지정하고 ( )(괄호)와 :(콜론)을 붙인 뒤 다음 줄에 원하는 코드를 작성합니다(함수의 이름을 짓는 방법은 변수와 같습니다). 이때 코드는 반드시 들여쓰기를 해야 합니다(들여쓰기 규칙은 if, for, while과 같습니다).\n",
        "\n",
        "\n",
        "```\n",
        "def 함수이름():\n",
        "     코드\n",
        "```\n",
        "여기서 def는 정의하다(define)에서 따온 키워드입니다.\n",
        "\n"
      ]
    },
    {
      "cell_type": "code",
      "metadata": {
        "id": "zwMoxiZU6auM",
        "colab_type": "code",
        "colab": {}
      },
      "source": [
        "#실습\n",
        "def 함수():\n",
        "  print(\"aa\")\n",
        "  \n",
        "함수()"
      ],
      "execution_count": 0,
      "outputs": []
    },
    {
      "cell_type": "code",
      "metadata": {
        "id": "izjcc40r7RYc",
        "colab_type": "code",
        "colab": {}
      },
      "source": [
        "#실습\n",
        "import my"
      ],
      "execution_count": 0,
      "outputs": []
    },
    {
      "cell_type": "markdown",
      "metadata": {
        "id": "ZZflKQcF87J0",
        "colab_type": "text"
      },
      "source": [
        "지금까지 만들어본 hello 함수는 동작이 고정되어 있습니다. 즉, 같은 문자열만 출력하죠. 이러면 함수를 사용하는 의미가 없습니다. 이번에는 함수에 값을 넣어서 동작을 바꿔보겠습니다.\n",
        "\n",
        "함수에서 값을 받으려면 ( )(괄호) 안에 변수 이름을 지정해주면 됩니다. 특히 이 변수를 매개변수(parameter)라고 부릅니다.\n",
        "\n",
        "\n",
        "```\n",
        "def 함수이름(매개변수1, 매개변수2):\n",
        "    코드\n",
        "```\n",
        "\n",
        "\n",
        "\n",
        "이제 두 수를 더하는 함수를 만들어보겠습니다. 다음과 같이 함수의 괄호 안에 매개변수 a와 b를 지정하고, 그다음 줄에서 print로 a와 b의 합을 출력합니다.\n",
        "\n",
        "\n",
        "```\n",
        ">>> def add(a, b):\n",
        "...     print(a + b)\n",
        "...\n",
        "```\n",
        "\n",
        "\n",
        "add 함수가 만들어졌습니다. 그럼 add 함수에 10과 20을 넣어서 호출해봅니다.\n",
        "```\n",
        ">>> add(10, 20)\n",
        "30\n",
        "```\n",
        "\n",
        "10과 20을 더한 값인 30이 출력되었습니다. 여기서 함수를 호출할 때 넣는 값을 인수(argument)라고 부릅니다. 즉, add(10, 20)에서 10과 20이 인수입니다."
      ]
    },
    {
      "cell_type": "code",
      "metadata": {
        "id": "Wg70s_Z29M6d",
        "colab_type": "code",
        "colab": {}
      },
      "source": [
        "#실습\n",
        "def test(a,b):\n",
        "  \"xxxx\"\n",
        "  pass\n"
      ],
      "execution_count": 0,
      "outputs": []
    },
    {
      "cell_type": "markdown",
      "metadata": {
        "id": "0L2BoBwc9yck",
        "colab_type": "text"
      },
      "source": [
        "다음과 같이 함수 안에서 return을 사용하면 값을 함수 바깥으로 반환합니다(return에 값을 지정하지 않으면 None을 반환).\n",
        "\n",
        "\n",
        "```\n",
        "def 함수이름(매개변수):\n",
        "    return 반환값\n",
        "```\n",
        "\n",
        "\n",
        "그럼 두 수를 더해서 반환하는 add 함수를 만들어보겠습니다. 함수 add에 매개변수에 a와 b를 지정하고 그다음 줄에서 return으로 a와 b를 더한 값을 반환하도록 만듭니다.\n",
        "\n",
        "\n",
        "```\n",
        ">>> def add(a, b):\n",
        "...     return a + b\n",
        "...\n",
        "```\n",
        "\n",
        "\n"
      ]
    },
    {
      "cell_type": "code",
      "metadata": {
        "id": "0-so27CJ95rE",
        "colab_type": "code",
        "colab": {}
      },
      "source": [
        "#실습"
      ],
      "execution_count": 0,
      "outputs": []
    },
    {
      "cell_type": "code",
      "metadata": {
        "id": "BDwAWpi8-VlL",
        "colab_type": "code",
        "colab": {}
      },
      "source": [
        "#실습(함수에서 값을 여러 개 반환하기)"
      ],
      "execution_count": 0,
      "outputs": []
    },
    {
      "cell_type": "markdown",
      "metadata": {
        "id": "EENMAKYRBIBI",
        "colab_type": "text"
      },
      "source": [
        "<iframe width=\"800\" height=\"500\" frameborder=\"0\" src=\"http://pythontutor.com/iframe-embed.html#code=def%20mul%28a,%20b%29%3A%0A%20%20%20%20c%20%3D%20a%20*%20b%0A%20%20%20%20return%20c%0A%20%0Adef%20add%28a,%20b%29%3A%0A%20%20%20%20c%20%3D%20a%20%2B%20b%0A%20%20%20%20print%28c%29%0A%20%20%20%20d%20%3D%20mul%28a,%20b%29%0A%20%20%20%20print%28d%29%0A%20%0Ax%20%3D%2010%0Ay%20%3D%2020%0Aadd%28x,%20y%29&codeDivHeight=400&codeDivWidth=350&cumulative=false&curInstr=7&heapPrimitives=nevernest&origin=opt-frontend.js&py=3&rawInputLstJSON=%5B%5D&textReferences=false\"> </iframe>"
      ]
    },
    {
      "cell_type": "code",
      "metadata": {
        "id": "a13z4uxHC7Av",
        "colab_type": "code",
        "colab": {}
      },
      "source": [
        "def mul(a, b):\n",
        "    c = a * b\n",
        "    return c\n",
        " \n",
        "def add(a, b):\n",
        "    c = a + b\n",
        "    print(c)\n",
        "    d = mul(a, b)\n",
        "    print(d)\n",
        " \n",
        "x = 10\n",
        "y = 20\n",
        "add(x, y)\n",
        "\n"
      ],
      "execution_count": 0,
      "outputs": []
    },
    {
      "cell_type": "markdown",
      "metadata": {
        "id": "dRqyUwT6DFTZ",
        "colab_type": "text"
      },
      "source": [
        "[프레임](http://www.pythontutor.com/visualize.html#code=def%20mul%28a,%20b%29%3A%0A%20%20%20%20c%20%3D%20a%20*%20b%0A%20%20%20%20return%20c%0A%20%0Adef%20add%28a,%20b%29%3A%0A%20%20%20%20c%20%3D%20a%20%2B%20b%0A%20%20%20%20print%28c%29%0A%20%20%20%20d%20%3D%20mul%28a,%20b%29%0A%20%20%20%20print%28d%29%0A%20%0Ax%20%3D%2010%0Ay%20%3D%2020%0Aadd%28x,%20y%29&cumulative=false&curInstr=0&heapPrimitives=nevernest&mode=display&origin=opt-frontend.js&py=3&rawInputLstJSON=%5B%5D&textReferences=false)"
      ]
    },
    {
      "cell_type": "code",
      "metadata": {
        "id": "WrEj6-XRF-UH",
        "colab_type": "code",
        "colab": {}
      },
      "source": [
        "#언패킹 사용하기\n",
        "def print_numbers(a, b, c):\n",
        "  print(a)\n",
        "  print(b)\n",
        "  print(c)\n",
        "\n",
        "print_numbers(10, 20, 30)\n",
        "\n",
        "x = [10, 20, 30]\n",
        "\n"
      ],
      "execution_count": 0,
      "outputs": []
    },
    {
      "cell_type": "code",
      "metadata": {
        "id": "uiaVaGhBGcRU",
        "colab_type": "code",
        "outputId": "5c0b34b0-bc13-40cd-9f88-03eefb6e4aa2",
        "colab": {
          "base_uri": "https://localhost:8080/",
          "height": 34
        }
      },
      "source": [
        "#고정 인수와 가변 인수를 함께 사용하기\n",
        "def print_numbers(a,*args):\n",
        "  print(a,args)\n",
        "  \n",
        "print_numbers(1,2,3)"
      ],
      "execution_count": 0,
      "outputs": [
        {
          "output_type": "stream",
          "text": [
            "(1,)\n"
          ],
          "name": "stdout"
        }
      ]
    },
    {
      "cell_type": "code",
      "metadata": {
        "id": "BumhU7dzG7A7",
        "colab_type": "code",
        "outputId": "6cc63dfc-f35a-43c4-f441-6c3abb06b4d5",
        "colab": {
          "base_uri": "https://localhost:8080/",
          "height": 122
        }
      },
      "source": [
        "#키워드 인수 사용하기\n",
        "def personal_info(name, age, address):\n",
        "  print('이름: ', name)\n",
        "  print('나이: ', age)\n",
        "  print('주소: ', address)\n",
        "  \n",
        "personal_info('홍길동', 30, '서울시 용산구 이촌동')\n",
        "\n",
        "\n",
        "personal_info(name='홍길동', age=30, address='서울시 용산구 이촌동')\n",
        "\n",
        "\n",
        "x = {'name': '홍길동', 'age': 30, 'address2': '서울시 용산구 이촌동'}\n",
        " "
      ],
      "execution_count": 0,
      "outputs": [
        {
          "output_type": "stream",
          "text": [
            "이름:  홍길동\n",
            "나이:  30\n",
            "주소:  서울시 용산구 이촌동\n",
            "이름:  홍길동\n",
            "나이:  30\n",
            "주소:  서울시 용산구 이촌동\n"
          ],
          "name": "stdout"
        }
      ]
    },
    {
      "cell_type": "code",
      "metadata": {
        "id": "DVSmVr5QHetF",
        "colab_type": "code",
        "colab": {}
      },
      "source": [
        "#키워드 인수를 사용하는 가변 인수 함수 만들기\n"
      ],
      "execution_count": 0,
      "outputs": []
    },
    {
      "cell_type": "code",
      "metadata": {
        "id": "vNQHTLUTHwDd",
        "colab_type": "code",
        "colab": {}
      },
      "source": [
        "#위치 인수와 키워드 인수를 함께 사용하기\n",
        "def 출력함수(*args, **kwargs):\n",
        "  pass\n"
      ],
      "execution_count": 0,
      "outputs": []
    },
    {
      "cell_type": "code",
      "metadata": {
        "id": "kOJEHsPUJDyG",
        "colab_type": "code",
        "outputId": "e6488c4c-206f-4992-f8e5-0f1c1a1ddbc7",
        "colab": {
          "base_uri": "https://localhost:8080/",
          "height": 70
        }
      },
      "source": [
        "#매개변수에 초깃값 지정하기\n",
        "def personal_info(name, age, address=\"우리집\"):\n",
        "  print('이름: ', name)\n",
        "  print('나이: ', age)\n",
        "  print('주소: ', address)\n",
        "\n",
        "personal_info('홍길동', 30)"
      ],
      "execution_count": 0,
      "outputs": [
        {
          "output_type": "stream",
          "text": [
            "이름:  홍길동\n",
            "나이:  30\n",
            "주소:  우리집\n"
          ],
          "name": "stdout"
        }
      ]
    },
    {
      "cell_type": "code",
      "metadata": {
        "id": "LO-ZuIXLJmQg",
        "colab_type": "code",
        "colab": {}
      },
      "source": [
        "#재귀호출 사용하기\n",
        "def hello():\n",
        "    print('Hello, world!')\n",
        "    hello()\n",
        " \n",
        "hello()"
      ],
      "execution_count": 0,
      "outputs": []
    },
    {
      "cell_type": "code",
      "metadata": {
        "id": "K5EWzy4eJ6Tn",
        "colab_type": "code",
        "outputId": "0de75249-51bd-41c8-b4ba-21140f7a5371",
        "colab": {
          "base_uri": "https://localhost:8080/",
          "height": 105
        }
      },
      "source": [
        "def hello(count):\n",
        "    if count == 0:    # 종료 조건을 만듦. count가 0이면 다시 hello 함수를 호출하지 않고 끝냄\n",
        "        return\n",
        "    \n",
        "    print('Hello, world!', count)\n",
        "    \n",
        "    count -= 1      # count를 1 감소시킨 뒤\n",
        "    hello(count)    # 다시 hello에 넣음\n",
        " \n",
        "hello(5)    # hello 함수 호출"
      ],
      "execution_count": 0,
      "outputs": [
        {
          "output_type": "stream",
          "text": [
            "Hello, world! 5\n",
            "Hello, world! 4\n",
            "Hello, world! 3\n",
            "Hello, world! 2\n",
            "Hello, world! 1\n"
          ],
          "name": "stdout"
        }
      ]
    },
    {
      "cell_type": "code",
      "metadata": {
        "id": "3jtPVDBbKFch",
        "colab_type": "code",
        "outputId": "5d740b2b-ad48-4bbc-f93f-9cbd8bc9d722",
        "colab": {
          "base_uri": "https://localhost:8080/",
          "height": 34
        }
      },
      "source": [
        "#재귀호출로 팩토리얼 구하기\n",
        "def factorial(n):\n",
        "    if n == 1:      # n이 1일 때\n",
        "        return 1    # 1을 반환하고 재귀호출을 끝냄\n",
        "    return n * factorial(n - 1)    # n과 factorial 함수에 n - 1을 넣어서 반환된 값을 곱함\n",
        " \n",
        "print(factorial(5))"
      ],
      "execution_count": 0,
      "outputs": [
        {
          "output_type": "stream",
          "text": [
            "120\n"
          ],
          "name": "stdout"
        }
      ]
    },
    {
      "cell_type": "code",
      "metadata": {
        "id": "bk1NdB--MZJH",
        "colab_type": "code",
        "colab": {}
      },
      "source": [
        "#중급\n",
        "from functools import partial\n",
        "\n",
        "def power(base, exponent):\n",
        "    return base ** exponent\n",
        "\n",
        "\n",
        "square = partial(power, exponent=2)\n",
        "cube = partial(power, exponent=3)"
      ],
      "execution_count": 0,
      "outputs": []
    },
    {
      "cell_type": "code",
      "metadata": {
        "id": "qTwOUZo3MEvK",
        "colab_type": "code",
        "outputId": "160cf600-0917-4753-f801-bbfc8036c93b",
        "colab": {
          "base_uri": "https://localhost:8080/",
          "height": 34
        }
      },
      "source": [
        "#숙제\n",
        "\n",
        "#https://ko.wikipedia.org/wiki/%ED%94%BC%EB%B3%B4%EB%82%98%EC%B9%98_%EC%88%98\n",
        "def fibonacci(n):\n",
        "  pass\n",
        "\n",
        "print(fibonacci(10))\n",
        "\n",
        "%timeit fibonacci(30)\n",
        "%timeit fibonacci(33)\n",
        "#이상한점? 해결책\n"
      ],
      "execution_count": 0,
      "outputs": [
        {
          "output_type": "stream",
          "text": [
            "1 loop, best of 3: 6.14 s per loop\n"
          ],
          "name": "stdout"
        }
      ]
    },
    {
      "cell_type": "code",
      "metadata": {
        "id": "XSP-myuFNPtS",
        "colab_type": "code",
        "colab": {}
      },
      "source": [
        ""
      ],
      "execution_count": 0,
      "outputs": []
    }
  ]
}