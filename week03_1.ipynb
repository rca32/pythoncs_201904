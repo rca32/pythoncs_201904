{
  "nbformat": 4,
  "nbformat_minor": 0,
  "metadata": {
    "colab": {
      "name": "week03-1.ipynb",
      "version": "0.3.2",
      "provenance": [],
      "include_colab_link": true
    },
    "kernelspec": {
      "name": "python3",
      "display_name": "Python 3"
    }
  },
  "cells": [
    {
      "cell_type": "markdown",
      "metadata": {
        "id": "view-in-github",
        "colab_type": "text"
      },
      "source": [
        "<a href=\"https://colab.research.google.com/github/rca32/pythoncs_201904/blob/master/week03_1.ipynb\" target=\"_parent\"><img src=\"https://colab.research.google.com/assets/colab-badge.svg\" alt=\"Open In Colab\"/></a>"
      ]
    },
    {
      "cell_type": "markdown",
      "metadata": {
        "id": "_SLjAo8B5kP1",
        "colab_type": "text"
      },
      "source": [
        "#리스트 자료형\n",
        "출처([점프 투 파이선](https://wikidocs.net/14)) \n",
        "\n",
        "지금까지 우리는 숫자와 문자열에 대해서 알아보았다. 하지만 숫자와 문자열만으로 프로그래밍을 하기엔 부족한 점이 많다.\n",
        "\n",
        "예를 들어 1부터 10까지의 숫자 중 홀수 모음인 1, 3, 5, 7, 9라는 집합을 생각해 보자. \n",
        "\n",
        "이런 숫자 모음을 숫자나 문자열로 표현하기는 쉽지 않다. \n",
        "\n",
        "파이썬에는 이러한 불편함을 해소할 수 있는 자료형이 존재한다. 그것이 바로 이 절에서 공부하게될 리스트(List)이다."
      ]
    },
    {
      "cell_type": "markdown",
      "metadata": {
        "id": "A3lIBI1E6ECV",
        "colab_type": "text"
      },
      "source": [
        "##리스트는 어떻게 만들고 사용할까?\n",
        "리스트를 이용하면 1, 3, 5, 7, 9라는 숫자 모음을 다음과 같이 간단하게 표현할 수 있다.\n",
        "\n",
        "```\n",
        ">>> odd = [1, 3, 5, 7, 9]\n",
        "```\n",
        "\n",
        "리스트를 만들 때는 위에서 보는 것과 같이 대괄호([ ])로 감싸 주고 각 요소값들은 쉼표(,)로 구분해 준다.\n",
        "\n",
        "리스트명 = [요소1, 요소2, 요소3, ...]\n",
        "\n",
        "여러 가지 리스트의 생김새를 살펴보면 다음과 같다.\n",
        "\n",
        "```\n",
        ">>> a = []\n",
        ">>> b = [1, 2, 3]\n",
        ">>> c = ['Life', 'is', 'too', 'short']\n",
        ">>> d = [1, 2, 'Life', 'is']\n",
        ">>> e = [1, 2, ['Life', 'is']]\n",
        "```\n",
        "\n",
        "\n",
        "리스트는 a처럼 아무것도 포함하지 않는, 비어 있는 리스트([ ])일 수도 있고 b처럼 숫자를 요소값으로 가질 수도 있고 c처럼 문자열을 요소값으로 가질 수도 있다. 또한 d처럼 숫자와 문자열을 함께 요소값으로 가질 수도 있으며 e처럼 리스트 자체를 요소값으로 가질 수도 있다. 즉, 리스트 안에는 어떠한 자료형도 포함시킬 수 있다.\n",
        "\n",
        "※ 비어 있는 리스트는 a = list()로 생성할 수도 있다."
      ]
    },
    {
      "cell_type": "code",
      "metadata": {
        "id": "0Az9hcRA61Xm",
        "colab_type": "code",
        "outputId": "98eb3ffe-6905-44d5-d10a-e2241c9c42b0",
        "colab": {
          "base_uri": "https://localhost:8080/",
          "height": 105
        }
      },
      "source": [
        "#실습\n",
        "print(a)\n",
        "print(b)\n",
        "print(c)\n",
        "print(d)\n",
        "print(e)\n"
      ],
      "execution_count": 0,
      "outputs": [
        {
          "output_type": "stream",
          "text": [
            "[]\n",
            "[1, 2, 3]\n",
            "['Life', 'is', 'too', 'short']\n",
            "['Life', 'is']\n",
            "[1, 2, ['Life', 'is']]\n"
          ],
          "name": "stdout"
        }
      ]
    },
    {
      "cell_type": "markdown",
      "metadata": {
        "id": "P-8WVucm7NPu",
        "colab_type": "text"
      },
      "source": [
        "##리스트의 인덱싱과 슬라이싱\n",
        "###리스트도 문자열처럼 인덱싱과 슬라이싱이 가능하다.  \n",
        "\n",
        "리스트의 인덱싱\n",
        "리스트 역시 문자열처럼 인덱싱을 적용할 수 있다. 먼저 a 변수에 [1, 2, 3]이라는 값을 설정 한다.\n",
        "\n",
        "```\n",
        ">>> a = [1, 2, 3]\n",
        ">>> a\n",
        "[1, 2, 3]\n",
        "```\n",
        "a[0]은 리스트 a의 첫 번째 요소값을 말한다.\n",
        "\n",
        "```\n",
        ">>> a[0]\n",
        "1\n",
        "\n",
        "```\n",
        "\n",
        "아래의 예는 리스트의 첫 번째 요소인 a[0]과 세 번째 요소인 a[2]의 값을 더한 것이다.\n",
        "\n",
        "```\n",
        ">>> a[0] + a[2]\n",
        "4\n",
        "```\n",
        "이것은 1 + 3으로 해석되어 4라는 값을 출력한다.\n",
        "\n",
        "문자열을 공부할 때 이미 살펴보았지만 파이썬은 숫자를 0부터 세기 때문에 a[1]이 리스트 a의 첫 번째 요소가 아니라 a[0]이 리스트 a의 첫 번째 요소임을 명심하자. a[-1]은 문자열에서와 마찬가지로 리스트 a의 마지막 요소값을 말한다.\n",
        "\n",
        "```\n",
        ">>> a[-1]\n",
        "3\n",
        "\n",
        "```\n",
        "\n",
        "이번에는 아래의 예처럼 리스트 a를 숫자 1, 2, 3과 또 다른 리스트인 ['a', 'b', 'c']를 포함하도록 만들어 보자.\n",
        "\n",
        "```\n",
        ">>> a = [1, 2, 3, ['a', 'b', 'c']]\n",
        "```\n",
        "\n",
        "다음의 예를 따라 해보자.\n",
        "\n",
        "```\n",
        ">>> a[0]\n",
        "1\n",
        ">>> a[-1]\n",
        "['a', 'b', 'c']\n",
        ">>> a[3]\n",
        "['a', 'b', 'c']\n",
        "```\n",
        "\n",
        "예상한 대로 a[-1]은 마지막 요소값인 ['a', 'b', 'c']를 나타낸다. a[3]은 리스트 a의 네 번째 요소를 나타내기 때문에 마지막 요소를 나타내는 a[-1]과 동일한 결과값을 보여 준다.\n",
        "\n",
        "그렇다면 여기서 리스트 a에 포함된 ['a', 'b', 'c']라는 리스트에서 'a'라는 값을 인덱싱을 이용해 끄집어낼 수 있는 방법은 없을까? 다음의 예를 보자.\n",
        "\n",
        "```\n",
        ">>> a[-1][0]\n",
        "'a'\n",
        "```\n",
        "\n",
        "위와 같이 하면 'a'를 끄집어낼 수 있다. a[-1]이 ['a', 'b', 'c'] 리스트라는 것은 이미 말했다. 바로 이 리스트에서 첫 번째 요소를 불러오기 위해 [0]을 붙여준 것이다.\n",
        "\n",
        "아래의 예도 마찬가지 경우이므로 어렵지 않게 이해가 될 것이다"
      ]
    },
    {
      "cell_type": "code",
      "metadata": {
        "id": "-tItYys69ToI",
        "colab_type": "code",
        "outputId": "6289a073-aa70-4e23-987a-b1b571e63f23",
        "colab": {
          "base_uri": "https://localhost:8080/",
          "height": 87
        }
      },
      "source": [
        "#실습\n",
        "a = [1, 2, 3, ['a', 'b', ['가','나','다']]]"
      ],
      "execution_count": 0,
      "outputs": [
        {
          "output_type": "stream",
          "text": [
            "1\n",
            "['a', 'b', ['가', '나', '다']]\n",
            "['가', '나', '다']\n",
            "나\n"
          ],
          "name": "stdout"
        }
      ]
    },
    {
      "cell_type": "markdown",
      "metadata": {
        "id": "6i8ZEGT991FO",
        "colab_type": "text"
      },
      "source": [
        "##리스트의 슬라이싱\n",
        "문자열과 마찬가지로 리스트에서도 슬라이싱 기법을 적용할 수 있다. 슬라이싱은 \"나눈다\"는 뜻이라고 했다.\n",
        "\n",
        "자, 그럼 리스트의 슬라이싱에 대해서 살펴보자.\n",
        "```\n",
        ">>> a = [1, 2, 3, 4, 5]\n",
        ">>> a[0:2]\n",
        "[1, 2]\n",
        "```\n",
        "\n",
        "앞의 예를 문자열에서 슬라이싱했던 것과 비교해 보자.\n",
        "```\n",
        ">>> a = \"12345\"\n",
        ">>> a[0:2]\n",
        "'12'\n",
        "```\n",
        "2가지가 완전히 동일하게 사용됨을 눈치챘을 것이다. 문자열에서 했던 것과 사용법이 완전히 동일하다.\n",
        "\n",
        "몇 가지 예를 더 들어 보도록 하자.\n",
        "```\n",
        ">>> a = [1, 2, 3, 4, 5]\n",
        ">>> b = a[:2]\n",
        ">>> c = a[2:]\n",
        ">>> b\n",
        "[1, 2]\n",
        ">>> c\n",
        "[3, 4, 5]\n",
        "```\n",
        "\n",
        "b라는 변수는 리스트 a의 첫번째 요소부터 두 번째 요소인 a[1]까지 나타내는 리스트이다. 물론 a[2] 값인 3은 포함되지 않는다. c라는 변수는 리스트 a의 세 번째 요소부터 끝까지 나타내는 리스트이다."
      ]
    },
    {
      "cell_type": "code",
      "metadata": {
        "id": "ldYNkvic-fvH",
        "colab_type": "code",
        "outputId": "07c7144c-ca55-4c26-f782-8a307707ea67",
        "colab": {
          "base_uri": "https://localhost:8080/",
          "height": 52
        }
      },
      "source": [
        "a=\"a,b,c,d,e,f\".split(\",\")"
      ],
      "execution_count": 0,
      "outputs": [
        {
          "output_type": "stream",
          "text": [
            "['a', 'b', 'c']\n",
            "['d', 'e', 'f']\n"
          ],
          "name": "stdout"
        }
      ]
    },
    {
      "cell_type": "markdown",
      "metadata": {
        "id": "Zutp_wA1_094",
        "colab_type": "text"
      },
      "source": [
        "\n",
        "---\n",
        "\n",
        "[중첩된 리스트에서 슬라이싱하기]\n",
        "\n",
        "리스트가 포함된 중첩 리스트 역시 슬라이싱 방법은 똑같이 적용된다.\n",
        "```\n",
        ">>> a = [1, 2, 3, ['a', 'b', 'c'], 4, 5]\n",
        ">>> a[2:5]\n",
        "[3, ['a', 'b', 'c'], 4]\n",
        ">>> a[3][:2]\n",
        "['a', 'b']\n",
        "```\n",
        "위의 예에서 a[3]은 ['a', 'b', 'c']를 나타낸다. 따라서 a[3][:2]는 ['a', 'b', 'c']의 첫 번째 요소부터 세 번째 요소 직전까지의 값, 즉 ['a', 'b']를 나타내는 리스트가 된다.\n",
        "\n",
        "---"
      ]
    },
    {
      "cell_type": "markdown",
      "metadata": {
        "id": "sif2V_AfAblO",
        "colab_type": "text"
      },
      "source": [
        "##리스트 연산\n",
        "리스트 역시 + 기호를 이용해서 더할 수 있고, * 기호를 이용해서 반복할 수 있다. 문자열과 마찬가지로 리스트에서도 되는지 직접 확인해 보자.\n",
        "```\n",
        "리스트 더하기(+)\n",
        ">>> a = [1, 2, 3]\n",
        ">>> b = [4, 5, 6]\n",
        ">>> a + b\n",
        "[1, 2, 3, 4, 5, 6]\n",
        "```\n",
        "리스트 사이에서 + 기호는 2개의 리스트를 합치는 기능을 한다. 문자열에서 \"abc\" + \"def\" = \"abcdef\"가 되는 것과 같은 이치이다.\n",
        "\n",
        "리스트 반복하기(*)\n",
        "```\n",
        ">>> a = [1, 2, 3]\n",
        ">>> a * 3\n",
        "[1, 2, 3, 1, 2, 3, 1, 2, 3]\n",
        "```\n",
        "위에서 볼 수 있듯이 [1, 2, 3]이라는 리스트가 세 번 반복되어 새로운 리스트를 만들어낸다. 문자열에서 \"abc\" * 3 = \"abcabcabc\" 가 되는 것과 같은 이치이다.\n",
        "\n",
        "리스트 길이구하기\n",
        "리스트의 길이를 구하기 위해서는 다음처럼 len함수를 이용해야 한다.\n",
        "```\n",
        ">>> a = [1, 2, 3]\n",
        ">>> len(a)\n",
        "3\n",
        "```\n",
        "(※ len 함수는 문자열, 리스트외에 앞으로 배울 튜플과 딕셔너리에도 사용할 수 있는 함수이다.)"
      ]
    },
    {
      "cell_type": "markdown",
      "metadata": {
        "id": "CYZz2MOhAsov",
        "colab_type": "text"
      },
      "source": [
        "##리스트의 수정과 삭제\n",
        "리스트에서 값 수정하기\n",
        "```\n",
        ">>> a = [1, 2, 3]\n",
        ">>> a[2] = 4\n",
        ">>> a\n",
        "[1, 2, 4]\n",
        "```\n",
        "a[2]의 요소값 3이 4로 바뀌었다.\n",
        "\n",
        "del 함수 사용해 리스트 요소 삭제하기\n",
        "```\n",
        ">>> a = [1, 2, 3]\n",
        ">>> del a[1]\n",
        ">>> a\n",
        "[1, 3]\n",
        "```\n",
        "del a[x]는 x번째 요소값을 삭제한다. 여기서는 a 리스트에서 a[1]을 삭제하는 방법을 보여 준다. del 함수는 파이썬이 자체적으로 가지고 있는 삭제 함수이며 다음과 같이 사용한다.\n",
        "\n",
        "del 객체\n",
        "※ 객체란 파이썬에서 사용되는 모든 자료형을 말한다.\n",
        "\n",
        "다음처럼 슬라이싱 기법을 이용하여 리스트의 요소 여러개를 한꺼번에 삭제할 수도 있다.\n",
        "```\n",
        ">>> a = [1, 2, 3, 4, 5]\n",
        ">>> del a[2:]\n",
        ">>> a\n",
        "[1, 2]\n",
        "```\n",
        "a[2:]에 해당되는 리스트의 요소들이 삭제되었다.\n",
        "\n",
        "리스트의 요소를 삭제하는 방법에는 2가지가 더 있다. 그것은 리스트의 remove와 pop함수를 이용하는 방법인데 이것에 대해서는 바로 이어지는 리스트 관련 함수들에서 설명한다."
      ]
    },
    {
      "cell_type": "code",
      "metadata": {
        "id": "fVEga9EEA8fv",
        "colab_type": "code",
        "outputId": "26c4f7cd-7f3d-4586-c26f-97fb4653e529",
        "colab": {
          "base_uri": "https://localhost:8080/",
          "height": 52
        }
      },
      "source": [
        "#실습\n",
        "a = [1, 2, 3]"
      ],
      "execution_count": 0,
      "outputs": [
        {
          "output_type": "stream",
          "text": [
            "[7, 8, 9]\n",
            "[7, 8]\n"
          ],
          "name": "stdout"
        }
      ]
    },
    {
      "cell_type": "markdown",
      "metadata": {
        "id": "Ftz6OiP8BTlv",
        "colab_type": "text"
      },
      "source": [
        "##리스트 관련 함수들\n",
        "문자열과 마찬가지로 리스트 변수명 뒤에 '.'를 붙여서 여러 가지 리스트 관련 함수들을 이용할 수 있다. 유용하게 사용되는 리스트 관련 함수 몇 가지에 대해서만 알아보기로 하자.\n",
        "\n",
        "###리스트에 요소 추가(append)\n",
        "append를 사전에서 검색해 보면 \"덧붙이다, 첨부하다\"라는 뜻이 있다. 이 뜻을 안다면 아래의 예가 금방 이해가 될 것이다. append(x)는 리스트의 맨 마지막에 x를 추가시키는 함수이다.\n",
        "```\n",
        ">>> a = [1, 2, 3]\n",
        ">>> a.append(4)\n",
        ">>> a\n",
        "[1, 2, 3, 4]\n",
        "```\n",
        "\n",
        "리스트 안에는 어떤 자료형도 추가할 수 있다.\n",
        "\n",
        "아래의 예는 리스트에 다시 리스트를 추가한 결과이다.\n",
        "```\n",
        ">>> a.append([5,6])\n",
        ">>> a\n",
        "[1, 2, 3, 4, [5, 6]]\n",
        "```\n",
        "\n"
      ]
    },
    {
      "cell_type": "code",
      "metadata": {
        "id": "P_hhuNN3DOo_",
        "colab_type": "code",
        "outputId": "b5ed7b91-05b9-4d4c-9af7-6a16836c1dea",
        "colab": {
          "base_uri": "https://localhost:8080/",
          "height": 34
        }
      },
      "source": [
        "#실습 \n",
        "a = ['가','나','다']\n",
        "print(a)"
      ],
      "execution_count": 0,
      "outputs": [
        {
          "output_type": "stream",
          "text": [
            "['가', '나', '다', ['A', ['가']]]\n"
          ],
          "name": "stdout"
        }
      ]
    },
    {
      "cell_type": "markdown",
      "metadata": {
        "id": "BSkqKTAKC-t4",
        "colab_type": "text"
      },
      "source": [
        "###리스트 정렬(sort)\n",
        "sort 함수는 리스트의 요소를 순서대로 정렬해 준다.\n",
        "```\n",
        ">>> a = [1, 4, 3, 2]\n",
        ">>> a.sort()\n",
        ">>> a\n",
        "[1, 2, 3, 4]\n",
        "```\n",
        "문자 역시 알파벳 순서로 정렬할 수 있다.\n",
        "```\n",
        ">>> a = ['a', 'c', 'b']\n",
        ">>> a.sort()\n",
        ">>> a\n",
        "['a', 'b', 'c']\n",
        "```\n",
        "\n",
        "sorted(iterable, *, key=None, reverse=False)\n",
        "\n",
        "list.sorted(key=None, reverse=False)\n"
      ]
    },
    {
      "cell_type": "code",
      "metadata": {
        "id": "04FMUsZHEhwy",
        "colab_type": "code",
        "outputId": "104a5861-b453-4dca-d7e3-8fdd1bb8a399",
        "colab": {
          "base_uri": "https://localhost:8080/",
          "height": 175
        }
      },
      "source": [
        "#실습\n",
        "a=[1,2,3,5,6,4]\n",
        "print(sorted(a))\n",
        "\n",
        "b=['1','2','3','4','5']\n",
        "print(sorted(b))\n",
        "\n",
        "c=['11','2','3','4','5']\n",
        "print(sorted(c))\n",
        "print(sorted(c,key=int))\n",
        "\n",
        "d=[['자동차1',100],['자동차2',600],['자동차3',480]]\n",
        "print(sorted(d,key=lambda x:x[1]))\n",
        "\n",
        "\n",
        "from operator import itemgetter\n",
        "print(sorted(d,key=itemgetter(1)))\n",
        "\n",
        "\n",
        "for item in d:\n",
        "  print(item)\n",
        "  \n"
      ],
      "execution_count": 0,
      "outputs": [
        {
          "output_type": "stream",
          "text": [
            "[1, 2, 3, 4, 5, 6]\n",
            "['1', '2', '3', '4', '5']\n",
            "['11', '2', '3', '4', '5']\n",
            "['2', '3', '4', '5', '11']\n",
            "[['자동차1', 100], ['자동차3', 480], ['자동차2', 600]]\n",
            "[['자동차1', 100], ['자동차3', 480], ['자동차2', 600]]\n",
            "['자동차1', 100]\n",
            "['자동차2', 600]\n",
            "['자동차3', 480]\n"
          ],
          "name": "stdout"
        }
      ]
    },
    {
      "cell_type": "markdown",
      "metadata": {
        "id": "z6GQsnNcMWuh",
        "colab_type": "text"
      },
      "source": [
        "##for문과 range함수\n",
        "\n",
        "###for문의 기본 구조\n",
        "```\n",
        "for 변수 in 리스트(또는 튜플, 문자열):\n",
        "    수행할 문장1\n",
        "    수행할 문장2\n",
        "    break\n",
        "    contine\n",
        " ```\n",
        "range(start_value, end_value, step)\n",
        "\n",
        "for문은 숫자 리스트를 자동으로 만들어 주는 range라는 함수와 함께 사용되는 경우가 많다. 다음은 range 함수의 간단한 사용법이다.\n",
        "```\n",
        ">>> a = range(10)\n",
        ">>> a\n",
        "range(0, 10)\n",
        "```\n",
        "\n"
      ]
    },
    {
      "cell_type": "code",
      "metadata": {
        "id": "o_yWwtQijNJo",
        "colab_type": "code",
        "outputId": "15c8a052-dc7f-4ca2-fb26-a20d82bea834",
        "colab": {
          "base_uri": "https://localhost:8080/",
          "height": 122
        }
      },
      "source": [
        "#실습\n",
        " \n",
        "for i in [0,1,2]:\n",
        "  print(i)\n",
        "  print(\"-----\")"
      ],
      "execution_count": 0,
      "outputs": [
        {
          "output_type": "stream",
          "text": [
            "0\n",
            "-----\n",
            "1\n",
            "-----\n",
            "2\n",
            "-----\n"
          ],
          "name": "stdout"
        }
      ]
    },
    {
      "cell_type": "markdown",
      "metadata": {
        "id": "u1bnAbEGjF5T",
        "colab_type": "text"
      },
      "source": [
        "range(10)은 0부터 10 미만의 숫자를 포함하는 range 객체를 만들어 준다.\n",
        "\n",
        "시작 숫자와 끝 숫자를 지정하려면 range(시작 숫자, 끝 숫자) 형태를 사용하는데, 이때 끝 숫자는 포함되지 않는다.\n",
        "```\n",
        ">>> a = range(1, 11)\n",
        ">>> a\n",
        "range(1, 11)\n",
        "```\n",
        "range 함수의 예시 살펴보기\n",
        "for와 range 함수를 이용하면 1부터 10까지 더하는 것을 다음과 같이 쉽게 구현할 수 있다.\n",
        "```\n",
        ">>> sum = 0 \n",
        ">>> for i in range(1, 11): \n",
        "...     sum = sum + i \n",
        "... \n",
        ">>> print(sum)\n",
        "55\n",
        "```\n",
        "\n"
      ]
    },
    {
      "cell_type": "code",
      "metadata": {
        "id": "tQZ-wjoQjXhD",
        "colab_type": "code",
        "colab": {}
      },
      "source": [
        "#실습\n"
      ],
      "execution_count": 0,
      "outputs": []
    },
    {
      "cell_type": "markdown",
      "metadata": {
        "id": "vgI2Hb0LjRt7",
        "colab_type": "text"
      },
      "source": [
        " \n",
        "\n",
        "```\n",
        "marks = [90, 25, 67, 45, 80]\n",
        "for number in range(len(marks)):\n",
        "    if marks[number] < 60: \n",
        "        continue\n",
        "    print(\"%d번 학생 축하합니다. 합격입니다.\" % (number+1))\n",
        "```\n",
        " \n",
        "\n",
        "for와 range를 이용한 구구단\n",
        "for와 range 함수를 이용하면 소스 코드 단 4줄만으로 구구단을 출력할 수 있다. 들여쓰기에 주의하며 입력해 보자.\n",
        "```\n",
        ">>> for i in range(2,10):        # ①번 for문\n",
        "...     for j in range(1, 10):   # ②번 for문\n",
        "...         print(i*j, end=\" \") \n",
        "...     print('') \n",
        "...\n",
        "\n",
        "```\n",
        " "
      ]
    },
    {
      "cell_type": "code",
      "metadata": {
        "id": "hKvIdrz6nJQL",
        "colab_type": "code",
        "colab": {}
      },
      "source": [
        "#실습"
      ],
      "execution_count": 0,
      "outputs": []
    },
    {
      "cell_type": "markdown",
      "metadata": {
        "id": "kmNM7xHRDM-I",
        "colab_type": "text"
      },
      "source": [
        "###리스트 뒤집기(reverse)\n",
        "reverse 함수는 리스트를 역순으로 뒤집어 준다. 이때 리스트 요소들을 순서대로 정렬한 다음 다시 역순으로 정렬하는 것이 아니라 그저 현재의 리스트를 그대로 거꾸로 뒤집을 뿐이다.\n",
        "```\n",
        ">>> a = ['a', 'c', 'b']\n",
        ">>> a.reverse()\n",
        ">>> a\n",
        "['b', 'c', 'a']\n",
        "```\n"
      ]
    },
    {
      "cell_type": "code",
      "metadata": {
        "id": "7QiS-w2DnLKs",
        "colab_type": "code",
        "colab": {}
      },
      "source": [
        "#실습"
      ],
      "execution_count": 0,
      "outputs": []
    },
    {
      "cell_type": "markdown",
      "metadata": {
        "id": "M1p1uJdWmm6l",
        "colab_type": "text"
      },
      "source": [
        "###위치 반환(index)\n",
        "index(x) 함수는 리스트에 x라는 값이 있으면 x의 위치값을 리턴한다.\n",
        "```\n",
        ">>> a = [1,2,3]\n",
        ">>> a.index(3)\n",
        "2\n",
        ">>> a.index(1)\n",
        "0\n",
        "```\n",
        "위의 예에서 리스트 a에 있는 3이라는 숫자의 위치는 a[2]이므로 2를 리턴하고, 1이라는 숫자의 위치는 a[0]이므로 0을 리턴한다.\n",
        "\n",
        "아래의 예에서 0이라는 값은 a 리스트에 존재하지 않기 때문에 값 오류(ValueError)가 발생한다.\n",
        "```\n",
        ">>> a.index(0)\n",
        "Traceback (most recent call last):\n",
        "  File \"<stdin>\", line 1, in <module>\n",
        "ValueError: 0 is not in list\n",
        "```"
      ]
    },
    {
      "cell_type": "code",
      "metadata": {
        "id": "h6qmSuPInMPj",
        "colab_type": "code",
        "colab": {}
      },
      "source": [
        "#실습"
      ],
      "execution_count": 0,
      "outputs": []
    },
    {
      "cell_type": "markdown",
      "metadata": {
        "id": "mUkelj0Hm4n0",
        "colab_type": "text"
      },
      "source": [
        "###리스트에 요소 삽입(insert)\n",
        "insert(a, b)는 리스트의 a번째 위치에 b를 삽입하는 함수이다. 파이썬에서는 숫자를 0부터 센다는 것을 반드시 기억하자.\n",
        "```\n",
        ">>> a = [1, 2, 3]\n",
        ">>> a.insert(0, 4)\n",
        ">>> a\n",
        "[4, 1, 2, 3]\n",
        "```\n",
        "위의 예는 0번째 자리, 즉 첫 번째 요소(a[0]) 위치에 4라는 값을 삽입하라는 뜻이다.\n",
        "```\n",
        ">>> a.insert(3, 5)\n",
        ">>> a\n",
        "[4, 1, 2, 5, 3]\n",
        "```\n",
        "위의 예는 리스트 a의 a[3], 즉 네 번째 요소 위치에 5라는 값을 삽입하라는 뜻이다.\n"
      ]
    },
    {
      "cell_type": "code",
      "metadata": {
        "id": "A7ZN4QgknNQz",
        "colab_type": "code",
        "colab": {}
      },
      "source": [
        "#실습"
      ],
      "execution_count": 0,
      "outputs": []
    },
    {
      "cell_type": "markdown",
      "metadata": {
        "id": "a_dr_Vkhm8gE",
        "colab_type": "text"
      },
      "source": [
        "\n",
        "###리스트 요소 제거(remove)\n",
        "\n",
        "remove(x)는 리스트에서 첫 번째로 나오는 x를 삭제하는 함수이다.\n",
        "```\n",
        ">>> a = [1, 2, 3, 1, 2, 3]\n",
        ">>> a.remove(3)\n",
        ">>> a\n",
        "[1, 2, 1, 2, 3]\n",
        "```\n",
        "a가 3이라는 값을 2개 가지고 있을 경우 첫 번째 3만 제거되는 것을 알 수 있다.\n",
        "```\n",
        ">>> a.remove(3)\n",
        ">>> a\n",
        "[1, 2, 1, 2]\n",
        "```\n",
        "remove(3)을 한 번 더 실행하면 다시 3이 삭제된다."
      ]
    },
    {
      "cell_type": "code",
      "metadata": {
        "id": "jVeqX6IhnOGT",
        "colab_type": "code",
        "colab": {}
      },
      "source": [
        "#실습"
      ],
      "execution_count": 0,
      "outputs": []
    },
    {
      "cell_type": "markdown",
      "metadata": {
        "id": "dBYik8gvm_XM",
        "colab_type": "text"
      },
      "source": [
        "\n",
        "###리스트 요소 끄집어내기(pop)\n",
        "pop()은 리스트의 맨 마지막 요소를 돌려 주고 그 요소는 삭제하는 함수이다.\n",
        "```\n",
        ">>> a = [1,2,3]\n",
        ">>> a.pop()\n",
        "3\n",
        ">>> a\n",
        "[1, 2]\n",
        "```\n",
        "a 리스트 [1,2,3]에서 3을 끄집어내고 최종적으로 [1, 2]만 남는 것을 볼 수 있다.\n",
        "\n",
        "pop(x)는 리스트의 x번째 요소를 돌려 주고 그 요소는 삭제한다.\n",
        "```\n",
        ">>> a = [1,2,3]\n",
        ">>> a.pop(1)\n",
        "2\n",
        ">>> a\n",
        "[1, 3]\n",
        "```\n",
        "a.pop(1)은 a[1]의 값을 끄집어낸다. 다시 a를 출력해 보면 끄집어낸 값이 삭제된 것을 확인할 수 있다.\n"
      ]
    },
    {
      "cell_type": "code",
      "metadata": {
        "id": "k5xshv0HnPkj",
        "colab_type": "code",
        "colab": {}
      },
      "source": [
        "#실습"
      ],
      "execution_count": 0,
      "outputs": []
    },
    {
      "cell_type": "markdown",
      "metadata": {
        "id": "EbwHY7KKnCyl",
        "colab_type": "text"
      },
      "source": [
        "\n",
        "\n",
        "###리스트에 포함된 요소 x의 개수 세기(count)\n",
        "count(x)는 리스트 내에 x가 몇 개 있는지 조사하여 그 개수를 돌려주는 함수이다.\n",
        "```\n",
        ">>> a = [1,2,3,1]\n",
        ">>> a.count(1)\n",
        "2\n",
        "```\n",
        "1이라는 값이 리스트 a에 2개 들어 있으므로 2를 돌려준다."
      ]
    },
    {
      "cell_type": "code",
      "metadata": {
        "id": "2PTf3SCmnQbP",
        "colab_type": "code",
        "colab": {}
      },
      "source": [
        "#실습"
      ],
      "execution_count": 0,
      "outputs": []
    },
    {
      "cell_type": "markdown",
      "metadata": {
        "id": "olbNHB2-nFKN",
        "colab_type": "text"
      },
      "source": [
        "\n",
        "\n",
        "###리스트 확장(extend)\n",
        "extend(x)에서 x에는 리스트만 올 수 있으며 원래의 a 리스트에 x 리스트를 더하게 된다.\n",
        "```\n",
        ">>> a = [1,2,3]\n",
        ">>> a.extend([4,5])\n",
        ">>> a\n",
        "[1, 2, 3, 4, 5]\n",
        ">>> b = [6, 7]\n",
        ">>> a.extend(b)\n",
        ">>> a\n",
        "[1, 2, 3, 4, 5, 6, 7]\n",
        "```\n",
        "a.extend([4,5])는 a += [4,5]와 동일하다."
      ]
    },
    {
      "cell_type": "code",
      "metadata": {
        "id": "7_PV8wl7Jf1K",
        "colab_type": "code",
        "outputId": "3687062c-64c7-4fe2-fef8-604e8955917b",
        "colab": {
          "base_uri": "https://localhost:8080/",
          "height": 34
        }
      },
      "source": [
        "a = [1,2,3,4,5,6,7,8]\n",
        "a.insert(0,0)\n",
        "a.pop()\n"
      ],
      "execution_count": 0,
      "outputs": [
        {
          "output_type": "execute_result",
          "data": {
            "text/plain": [
              "[0, 1, 2, 3, 4, 5, 6, 7]"
            ]
          },
          "metadata": {
            "tags": []
          },
          "execution_count": 69
        }
      ]
    },
    {
      "cell_type": "markdown",
      "metadata": {
        "id": "W66JIdveOq3o",
        "colab_type": "text"
      },
      "source": [
        "##Python Comprehension\n",
        "Python의 Comprehension은 한 Sequence가 다른 Sequence (Iterable Object)로부터 (변형되어) 구축될 수 있게한 기능이다. \n",
        "\n",
        "List Comprehension (리스트 내포)는 입력 Sequence로부터 지정된 표현식에 따라 새로운 리스트 컬렉션을 빌드하는 것으로, 아래와 같은 문법을 갖는다.\n",
        "```\n",
        "[출력표현식 for 요소 in 입력Sequence [if 조건식]]\n",
        "\n",
        "\n",
        "oldlist = [1, 2,3,4,5,6,7]\n",
        "newlist = [i*i for i in oldlist if i>2]\n",
        "print(newlist)\n",
        "# 출력: [1, 4, 9]\n",
        "\n",
        "```\n",
        "\n"
      ]
    },
    {
      "cell_type": "code",
      "metadata": {
        "id": "Ev-_EwJTPWMx",
        "colab_type": "code",
        "outputId": "441f8de2-6cd5-41a1-fa07-eb4597bbe930",
        "colab": {
          "base_uri": "https://localhost:8080/",
          "height": 34
        }
      },
      "source": [
        "oldlist = [1, 2,3,4,5,6,7]\n",
        "newlist = [i*i for i in oldlist if i>2]\n",
        "print(newlist)"
      ],
      "execution_count": 0,
      "outputs": [
        {
          "output_type": "stream",
          "text": [
            "[9, 16, 25, 36, 49]\n"
          ],
          "name": "stdout"
        }
      ]
    },
    {
      "cell_type": "code",
      "metadata": {
        "id": "2jy5fBRzPsea",
        "colab_type": "code",
        "outputId": "05df395b-1864-4334-f0ca-e81833c6c0f4",
        "colab": {
          "base_uri": "https://localhost:8080/",
          "height": 34
        }
      },
      "source": [
        "list_a = [\"Hello\", \"World\", \"In\", \"Python\"]\n",
        "\n",
        "small_list_a = [str.lower() for str in list_a]\n",
        "\n",
        "print(small_list_a)  "
      ],
      "execution_count": 0,
      "outputs": [
        {
          "output_type": "stream",
          "text": [
            "['hello', 'world', 'in', 'python']\n"
          ],
          "name": "stdout"
        }
      ]
    },
    {
      "cell_type": "code",
      "metadata": {
        "id": "paHiBzbaPtoZ",
        "colab_type": "code",
        "outputId": "4036fb91-0dcf-4bef-d0f8-9d95984d9d19",
        "colab": {
          "base_uri": "https://localhost:8080/",
          "height": 34
        }
      },
      "source": [
        "list_a = [1, 2, 3]\n",
        "\n",
        "square_cube_list = [ [a**2, a**3] for a in list_a]\n",
        "\n",
        "print(square_cube_list)  "
      ],
      "execution_count": 0,
      "outputs": [
        {
          "output_type": "stream",
          "text": [
            "[[1, 1], [4, 8], [9, 27]]\n"
          ],
          "name": "stdout"
        }
      ]
    }
  ]
}