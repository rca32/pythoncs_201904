{
  "nbformat": 4,
  "nbformat_minor": 0,
  "metadata": {
    "colab": {
      "name": "20190618",
      "version": "0.3.2",
      "provenance": [],
      "include_colab_link": true
    },
    "kernelspec": {
      "name": "python3",
      "display_name": "Python 3"
    }
  },
  "cells": [
    {
      "cell_type": "markdown",
      "metadata": {
        "id": "view-in-github",
        "colab_type": "text"
      },
      "source": [
        "<a href=\"https://colab.research.google.com/github/rca32/pythoncs_201904/blob/master/20190618.ipynb\" target=\"_parent\"><img src=\"https://colab.research.google.com/assets/colab-badge.svg\" alt=\"Open In Colab\"/></a>"
      ]
    },
    {
      "cell_type": "code",
      "metadata": {
        "id": "WNic84Zx-S05",
        "colab_type": "code",
        "colab": {}
      },
      "source": [
        "\n",
        "종목DB = {\"005930\":\"삼성전자\",\"삼성전자\":\"005930\"}\n",
        "\n",
        "def search(키워드):\n",
        "    결과 = 종목DB.get(키워드)\n",
        "    if 결과 is None:\n",
        "        임시결과 = []\n",
        "        for k,v in 종목DB.items():\n",
        "            if k.find(키워드)>=0:\n",
        "                임시결과.append((k,v))\n",
        "            if v.find(키워드)>=0:\n",
        "                임시결과.append((k,v))\n",
        "        return 임시결과\n",
        "    return 결과\n",
        "\n",
        "def load종목DB():\n",
        "    임시DB = {}\n",
        "    with open(r\"C:\\Infomax\\bin\\code\\kor_company_code.dat\",\"r\") as 파일:\n",
        "        for 인덱스,라인 in enumerate(파일):\n",
        "            라인 = 라인.strip()\n",
        "            if 인덱스<2:\n",
        "                continue\n",
        "            if 라인 == \"[GB1]\":\n",
        "                break\n",
        "            라인리스트 = 라인.split(\"@\")\n",
        "            임시DB[라인리스트[0]] = 라인리스트[1]\n",
        "            임시DB[라인리스트[1]] = 라인리스트[0]\n",
        "\n",
        "    return 임시DB\n",
        "\n",
        "\n",
        "종목DB = load종목DB()\n",
        "print(search(\"삼전\"))"
      ],
      "execution_count": 0,
      "outputs": []
    }
  ]
}