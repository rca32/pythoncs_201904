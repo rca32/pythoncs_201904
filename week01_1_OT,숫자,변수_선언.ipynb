{
  "nbformat": 4,
  "nbformat_minor": 0,
  "metadata": {
    "colab": {
      "name": "week01-1 OT,숫자,변수 선언",
      "version": "0.3.2",
      "provenance": [],
      "toc_visible": true,
      "include_colab_link": true
    },
    "kernelspec": {
      "name": "python3",
      "display_name": "Python 3"
    }
  },
  "cells": [
    {
      "cell_type": "markdown",
      "metadata": {
        "id": "view-in-github",
        "colab_type": "text"
      },
      "source": [
        "<a href=\"https://colab.research.google.com/github/rca32/pythoncs_201904/blob/master/week01_1_OT%2C%EC%88%AB%EC%9E%90%2C%EB%B3%80%EC%88%98_%EC%84%A0%EC%96%B8.ipynb\" target=\"_parent\"><img src=\"https://colab.research.google.com/assets/colab-badge.svg\" alt=\"Open In Colab\"/></a>"
      ]
    },
    {
      "metadata": {
        "id": "aQ4w0JSgjD6Q",
        "colab_type": "text"
      },
      "cell_type": "markdown",
      "source": [
        "![python](https://video-images.vice.com/articles/5cb627bf537b830007c1d9af/lede/1555441973540-Screen-Shot-2019-04-16-at-31208-PM.png?crop=0.9841670169539022xw%3A1xh%3Bcenter%2Ccenter&resize=2000%3A*)\n",
        "\n",
        "\n",
        "[블랙홀 사진을 만든 여성 케이티 부먼의 이야기](https://www.huffingtonpost.kr/entry/story_kr_5caeddf4e4b0308735d4fd34)"
      ]
    },
    {
      "metadata": {
        "id": "Xrf8cXazjZm4",
        "colab_type": "text"
      },
      "cell_type": "markdown",
      "source": [
        "## 파이선이란? \n",
        "\n",
        "파이썬은 1980년대 말 고안되어 네덜란드 CWI의 귀도 반 로섬이 1989년 12월 구현하기 시작하였다. 이는 역시 SETL에서 영감을 받은 ABC 언어의 후계로서, 예외 처리가 가능하고, 아메바 OS와 연동이 가능하였다. 반 로섬은 파이썬의 주 저자로 계속 중심적 역할을 맡아 파이썬의 방향을 결정하여, 파이썬 공동체로부터 '자선 종신 이사'의 칭호를 부여받았다. 이 같은 예로는 리눅스의 리누스 토발즈 등이 있다.\n",
        "\n",
        "![귀도 반 로섬](https://www.imaso.co.kr/wp-content/uploads/2018/07/image-4.png)\n",
        "\n",
        "---\n",
        "\n",
        "\n",
        "\n",
        "[비주얼 스투디오 코드](https://code.visualstudio.com/)\n",
        "\n",
        "\n",
        "---\n",
        "\n",
        "\n",
        "[미니콘다](https://docs.conda.io/en/latest/miniconda.html)"
      ]
    },
    {
      "metadata": {
        "id": "SoJn3HoRhqzw",
        "colab_type": "text"
      },
      "cell_type": "markdown",
      "source": [
        " [출처:점프 투 파이썬](https://wikidocs.net/12)\n",
        "\n",
        "# 숫자형이란?\n",
        "\n",
        "숫자형(Number)이란 숫자 형태로 이루어진 자료형으로, 우리가 이미 잘 알고 있는 것들이다.\n",
        "\n",
        "우리가 흔히 사용하는 것들을 생각해 보자. 123과 같은 정수, 12.34와 같은 실수, 드물게 사용하긴 하지만 8진수나 16진수 같은 것들도 있다.\n",
        "\n",
        "아래 표는 숫자들이 파이썬에서 어떻게 사용되는지를 간략하게 보여 준다.\n",
        "\n",
        "|항목|사용 예|\n",
        "|--- |--- |\n",
        "|정수|123, -345, 0|\n",
        "|실수|123.45, -1234.5, 3.4e10|\n",
        "|8진수|0o34, 0o25|\n",
        "|16진수|0x2A, 0xFF|\n"
      ]
    },
    {
      "metadata": {
        "id": "KlMk9Llmn2Iw",
        "colab_type": "text"
      },
      "cell_type": "markdown",
      "source": [
        "#숫자형을 활용하기 위한 연산자\n",
        "\n",
        "---\n",
        "\n",
        "\n",
        "## 사칙연산\n",
        " \n",
        "\n",
        "```\n",
        ">>> a = 3\n",
        ">>> b = 4\n",
        ">>> a + b\n",
        "7\n",
        ">>> a * b\n",
        "12\n",
        ">>> a / b\n",
        "0.75\n",
        "```\n",
        "\n"
      ]
    },
    {
      "metadata": {
        "id": "-sqeg7TkosmJ",
        "colab_type": "code",
        "colab": {}
      },
      "cell_type": "code",
      "source": [
        "#연습"
      ],
      "execution_count": 0,
      "outputs": []
    },
    {
      "metadata": {
        "id": "xa0DvWTLobk5",
        "colab_type": "text"
      },
      "cell_type": "markdown",
      "source": [
        "#x의 y제곱을 나타내는 ** 연산자\n",
        "\n",
        "다음으로 알아야 할 연산자로 **라는 연산자가 있다. 이 연산자는 x ** y처럼 사용되었을 때 x의 y제곱(xy) 값을 리턴한다. 다음의 예를 통해 알아보자.\n",
        "\n",
        "\n",
        "```\n",
        ">>> a = 3\n",
        ">>> b = 4\n",
        ">>> a ** b\n",
        "81\n",
        "```\n",
        "\n"
      ]
    },
    {
      "metadata": {
        "id": "wAuWJyAEn11h",
        "colab_type": "code",
        "colab": {}
      },
      "cell_type": "code",
      "source": [
        "#연습"
      ],
      "execution_count": 0,
      "outputs": []
    },
    {
      "metadata": {
        "id": "MTD4n71FoxOx",
        "colab_type": "text"
      },
      "cell_type": "markdown",
      "source": [
        "#나눗셈 후 나머지를 반환하는 % 연산자\n",
        "프로그래밍을 처음 접하는 독자라면 % 연산자는 본 적이 없을 것이다. %는 나눗셈의 나머지 값을 반환하는 연산자이다. 7을 3으로 나누면 나머지는 1이 될 것이고 3을 7로 나누면 나머지는 3이 될 것이다. 다음의 예로 확인해 보자.\n",
        "\n",
        "\n",
        "```\n",
        ">>> 7 % 3\n",
        "1\n",
        ">>> 3 % 7\n",
        "3\n",
        "```\n",
        "\n"
      ]
    },
    {
      "metadata": {
        "id": "7-vdUPU5o_IJ",
        "colab_type": "code",
        "colab": {}
      },
      "cell_type": "code",
      "source": [
        "#연습"
      ],
      "execution_count": 0,
      "outputs": []
    },
    {
      "metadata": {
        "id": "uRwjWeL4pOhx",
        "colab_type": "text"
      },
      "cell_type": "markdown",
      "source": [
        "#나눗셈 후 몫을 반환하는 // 연산자\n",
        "/ 연산자를 사용하여 7 나누기 4를 하면 그 결과는 예상대로 1.75가 된다.\n",
        "\n",
        "\n",
        "```\n",
        ">>> 7 / 4\n",
        "1.75\n",
        "```\n",
        "\n",
        "\n",
        "이번에는 나눗셈 후 몫을 반환하는 // 연산자를 사용한 경우를 보자.\n",
        "```\n",
        ">>> 7 // 4\n",
        "1\n",
        "```"
      ]
    },
    {
      "metadata": {
        "id": "JHsjyx3IpdO5",
        "colab_type": "text"
      },
      "cell_type": "markdown",
      "source": [
        "#연습문제\n",
        "\n",
        "[문제1] 점수의 평균\n",
        "\n",
        "홍길동씨의 과목별 점수는 각각 다음과 같다.\n",
        "\n",
        "|과목|점수|\n",
        "|--- |--- |\n",
        "|국어|80|\n",
        "|영어|75|\n",
        "|수학|55|\n",
        "\n",
        "홍길동씨의 평균점수를 구하시오."
      ]
    },
    {
      "metadata": {
        "id": "F6FLUT5cp3rS",
        "colab_type": "code",
        "colab": {}
      },
      "cell_type": "code",
      "source": [
        "#연습"
      ],
      "execution_count": 0,
      "outputs": []
    },
    {
      "metadata": {
        "id": "-yRg8LEfp7Cx",
        "colab_type": "text"
      },
      "cell_type": "markdown",
      "source": [
        "[문제2] 자연수의 홀짝\n",
        "\n",
        "주어진 자연수가 홀수인지 짝수인지 판별할 수 있는 방법에 대해서 말해보자."
      ]
    },
    {
      "metadata": {
        "id": "5KJL8BD6p-ax",
        "colab_type": "code",
        "colab": {}
      },
      "cell_type": "code",
      "source": [
        "#연습"
      ],
      "execution_count": 0,
      "outputs": []
    },
    {
      "metadata": {
        "id": "hZFUN3Qwqcq5",
        "colab_type": "text"
      },
      "cell_type": "markdown",
      "source": [
        "# 숫자 연산 요약\n",
        "\n",
        "연산자|설명|예제\n",
        "--|--|--\n",
        "+\t|더하기|\ta + b = 30\n",
        "-\t|빼기 |\ta - b = -10\n",
        "*|\t곱하기\t|a * b = 200\n",
        "/\t|나누기\t|b / a = 2.0\n",
        "%\t|나머지|\tb % a = 0\n",
        "**\t|제곱\t|a ** c = 1000\n",
        "//\t|몫|\ta // c = 3"
      ]
    },
    {
      "metadata": {
        "id": "ftFJEl_2q1xR",
        "colab_type": "text"
      },
      "cell_type": "markdown",
      "source": [
        "#복습!!\n",
        "```\n",
        "2 + 2 + 1\n",
        "50 - 5 * 6 + 8\n",
        "(50 - 5 * 6) / 4\n",
        "8 / 5  ## 실제 결과 타입?\n",
        "8 // 5 \n",
        "8 % 5  \n",
        "5 ** 2 \n",
        "```\n",
        "\n"
      ]
    },
    {
      "metadata": {
        "id": "OILOhOvprTqK",
        "colab_type": "text"
      },
      "cell_type": "markdown",
      "source": [
        "# 변수 선언\n",
        "\n",
        "* 예약어 (Reserved Words):\n",
        "* 예약어는 모두 30개이다.\n",
        "* 예약어는 상수 또는 변수 나 다른 식별자의 이름으로 사용 할 수 없다.\n",
        "* 예약어는 모두 소문자이다.\n",
        "\n",
        "\n",
        "Keyword\t|Keyword|\tKeyword\n",
        "--|--|--\n",
        "and\t|exec|\tnot\n",
        "assert|\tfinally|\tor\n",
        "break\t|for|\tpass\n",
        "class\t|from|\tprint\n",
        "continue|\tglobal|\traise\n",
        "def\t|if|\treturn\n",
        "del|\timport|\ttry\n",
        "elif|\tin|\twhile\n",
        "else\t|is|\twith\n",
        "except\t|lambda\t|yield\n",
        "\n",
        "\n",
        "\n",
        "\n",
        "```\n",
        "x = 20\n",
        "y = 5 * 9\n",
        "x * y\n",
        "\n",
        "\n",
        "a = 12.5 / 100\n",
        "b = 100.50\n",
        "a * b\n",
        "\n",
        "```\n",
        "\n",
        "\n",
        "\n",
        "\n"
      ]
    },
    {
      "metadata": {
        "id": "vgprKgW6sAp6",
        "colab_type": "text"
      },
      "cell_type": "markdown",
      "source": [
        "# 숙제 \n",
        "다음 수식을 계산 하시요\n",
        "```\n",
        "import math\n",
        "```\n",
        "\n",
        "$$\\frac{5-(1 -(3 - \\exp(\\frac{1}{8}))}{3(4-2)(2-\\frac{3}{8})} - 2!(-1)^3 + \\sin (0.98\\pi) $$"
      ]
    },
    {
      "metadata": {
        "id": "eXa7Gs11sLmq",
        "colab_type": "code",
        "colab": {}
      },
      "cell_type": "code",
      "source": [
        ""
      ],
      "execution_count": 0,
      "outputs": []
    }
  ]
}