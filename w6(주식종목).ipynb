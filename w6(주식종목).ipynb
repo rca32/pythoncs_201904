{
  "nbformat": 4,
  "nbformat_minor": 0,
  "metadata": {
    "colab": {
      "name": "w6(주식종목)",
      "version": "0.3.2",
      "provenance": [],
      "include_colab_link": true
    },
    "language_info": {
      "codemirror_mode": {
        "name": "ipython",
        "version": 3
      },
      "file_extension": ".py",
      "mimetype": "text/x-python",
      "name": "python",
      "nbconvert_exporter": "python",
      "pygments_lexer": "ipython3",
      "version": "3.6.4"
    },
    "kernelspec": {
      "display_name": "Python 3",
      "language": "python",
      "name": "python3"
    }
  },
  "cells": [
    {
      "cell_type": "markdown",
      "metadata": {
        "id": "view-in-github",
        "colab_type": "text"
      },
      "source": [
        "<a href=\"https://colab.research.google.com/github/rca32/pythoncs_201904/blob/master/w6(%EC%A3%BC%EC%8B%9D%EC%A2%85%EB%AA%A9).ipynb\" target=\"_parent\"><img src=\"https://colab.research.google.com/assets/colab-badge.svg\" alt=\"Open In Colab\"/></a>"
      ]
    },
    {
      "cell_type": "markdown",
      "metadata": {
        "id": "K-G0Ne8Oqpt6",
        "colab_type": "text"
      },
      "source": [
        "# Python 3.6 및 Jupyter lab 설치 - 윈도우\n",
        "\n",
        "https://yongbeomkim.github.io/python/python-settings/"
      ]
    },
    {
      "cell_type": "markdown",
      "metadata": {
        "id": "JAWX3SO_qpt7",
        "colab_type": "text"
      },
      "source": [
        "# 파일 관련 \n",
        "[파일 관련 ](https://wikidocs.net/26)\n",
        "\n",
        "https://docs.python.org/3.5/library/functions.html?highlight=open#open"
      ]
    },
    {
      "cell_type": "code",
      "metadata": {
        "id": "YF3hicjcqpt8",
        "colab_type": "code",
        "colab": {}
      },
      "source": [
        "#파일 생성\n",
        "f = open(\"새파일.txt\", 'a')\n",
        "f.close()"
      ],
      "execution_count": 0,
      "outputs": []
    },
    {
      "cell_type": "code",
      "metadata": {
        "id": "8mCErb7Jqpt_",
        "colab_type": "code",
        "colab": {}
      },
      "source": [
        "#폴더\n",
        "f = open(\"./테스트/새파일.txt\", 'a')\n",
        "f.close()"
      ],
      "execution_count": 0,
      "outputs": []
    },
    {
      "cell_type": "code",
      "metadata": {
        "id": "YISCUtXeqpuB",
        "colab_type": "code",
        "colab": {}
      },
      "source": [
        "#파일을 쓰기 모드로 열어 출력값 적기\n",
        "f = open(\"새파일.txt\", 'w')\n",
        "for i in range(1, 11):\n",
        "    data = \"%d번째 줄입니다.\\n\" % i\n",
        "    f.write(data)\n",
        "f.close()"
      ],
      "execution_count": 0,
      "outputs": []
    },
    {
      "cell_type": "code",
      "metadata": {
        "id": "-8w8B4mEqpuD",
        "colab_type": "code",
        "colab": {}
      },
      "source": [
        "#readline() 함수 이용하기\n",
        "f = open(\"새파일.txt\", 'r')\n",
        "line = f.readline()\n",
        "print(line)\n",
        "f.close()"
      ],
      "execution_count": 0,
      "outputs": []
    },
    {
      "cell_type": "code",
      "metadata": {
        "id": "RlpITiNwqpuF",
        "colab_type": "code",
        "colab": {}
      },
      "source": [
        "f = open(\"새파일.txt\", 'r')\n",
        "for i in range(10):\n",
        "    line = f.readline()\n",
        "    if line=='':\n",
        "        break\n",
        "    print(line,end=\"\")\n",
        "f.close()"
      ],
      "execution_count": 0,
      "outputs": []
    },
    {
      "cell_type": "code",
      "metadata": {
        "id": "CFk75hKbqpuI",
        "colab_type": "code",
        "colab": {}
      },
      "source": [
        "f = open(\"새파일.txt\", 'r')\n",
        "while True:\n",
        "    line = f.readline()\n",
        "    if line=='': \n",
        "        break\n",
        "    print(line)\n",
        "f.close()"
      ],
      "execution_count": 0,
      "outputs": []
    },
    {
      "cell_type": "code",
      "metadata": {
        "id": "E6Kz0xyJqpuK",
        "colab_type": "code",
        "colab": {}
      },
      "source": [
        "#readlines() 함수 이용하기\n",
        "f = open(\"새파일.txt\", 'r')\n",
        "lines = f.readlines()\n",
        "for line in lines:\n",
        "    print(line)\n",
        "f.close()"
      ],
      "execution_count": 0,
      "outputs": []
    },
    {
      "cell_type": "code",
      "metadata": {
        "id": "tAkPNnKjqpuM",
        "colab_type": "code",
        "colab": {}
      },
      "source": [
        "with open(\"새파일.txt\", 'r') as f:\n",
        "    for line in f:\n",
        "        print(line,end=\"\")"
      ],
      "execution_count": 0,
      "outputs": []
    },
    {
      "cell_type": "code",
      "metadata": {
        "id": "xWnEDmZeqpuP",
        "colab_type": "code",
        "colab": {}
      },
      "source": [
        "#파일에 새로운 내용 추가하기\n",
        "f = open(\"새파일.txt\",'a')\n",
        "for i in range(11, 20):\n",
        "    data = \"%d번째 줄입니다.\\n\" % i\n",
        "    f.write(data)\n",
        "f.close()"
      ],
      "execution_count": 0,
      "outputs": []
    },
    {
      "cell_type": "code",
      "metadata": {
        "id": "ZgWJyDL3qpuR",
        "colab_type": "code",
        "colab": {}
      },
      "source": [
        "#종목 파일 열기 \n",
        "with open(r\"F:\\Infomax\\bin\\code\\ST_ITEM_KOR_STOCKS.dat\", 'r') as f:\n",
        "    lines = f.readlines()"
      ],
      "execution_count": 0,
      "outputs": []
    },
    {
      "cell_type": "code",
      "metadata": {
        "id": "2TChi3iuqpuT",
        "colab_type": "code",
        "colab": {}
      },
      "source": [
        "#심플 db 구축 \n",
        "주식종목DB = {}\n",
        "for line in lines[5:]:\n",
        "    line = line.strip()\n",
        "    if line==\"[TYPE]\":\n",
        "        break\n",
        "    line = line.split(\"@\")\n",
        "    종목코드 = line[0]\n",
        "    종목명 = line[1]\n",
        "    분류 = line[3]\n",
        "    주식종목DB[종목코드] = {'종목코드':종목코드,\"종목명\":종목명,\"분류\":분류}\n",
        "    \n",
        "\n"
      ],
      "execution_count": 0,
      "outputs": []
    },
    {
      "cell_type": "code",
      "metadata": {
        "id": "CAPx_hIFqpuV",
        "colab_type": "code",
        "colab": {}
      },
      "source": [
        "#다중\n",
        "for k,v in 주식종목DB.items():\n",
        "    if v['분류'][1] == '1' and v['분류'][6] == '1':\n",
        "        print(v['종목명'],v['분류'])"
      ],
      "execution_count": 0,
      "outputs": []
    }
  ]
}