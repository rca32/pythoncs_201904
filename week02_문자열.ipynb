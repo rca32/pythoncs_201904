{
  "nbformat": 4,
  "nbformat_minor": 0,
  "metadata": {
    "colab": {
      "name": "week02-문자열",
      "version": "0.3.2",
      "provenance": [],
      "include_colab_link": true
    },
    "kernelspec": {
      "name": "python3",
      "display_name": "Python 3"
    }
  },
  "cells": [
    {
      "cell_type": "markdown",
      "metadata": {
        "id": "view-in-github",
        "colab_type": "text"
      },
      "source": [
        "<a href=\"https://colab.research.google.com/github/rca32/pythoncs_201904/blob/master/week02_%EB%AC%B8%EC%9E%90%EC%97%B4.ipynb\" target=\"_parent\"><img src=\"https://colab.research.google.com/assets/colab-badge.svg\" alt=\"Open In Colab\"/></a>"
      ]
    },
    {
      "metadata": {
        "id": "ng1qJF-kCRFK",
        "colab_type": "text"
      },
      "cell_type": "markdown",
      "source": [
        "# 복습 \n",
        "## 숫자 연산 요약\n",
        "\n",
        "연산자|설명|예제\n",
        "--|--|--\n",
        "+\t|더하기|\ta + b = 30\n",
        "-\t|빼기 |\ta - b = -10\n",
        "*|\t곱하기\t|a * b = 200\n",
        "/\t|나누기\t|b / a = 2.0\n",
        "%\t|나머지|\tb % a = 0\n",
        "**\t|제곱\t|a ** c = 1000\n",
        "//\t|몫|\ta // c = 3\n",
        "\n",
        "##변수 선언\n",
        "\n",
        "![대체 텍스트](https://github.com/rca32/pythoncs_2019/blob/master/variable.webp?raw=true =400x100)\n",
        "\n",
        "n = 300"
      ]
    },
    {
      "metadata": {
        "id": "U_iyLedNCt6E",
        "colab_type": "code",
        "colab": {}
      },
      "cell_type": "code",
      "source": [
        ""
      ],
      "execution_count": 0,
      "outputs": []
    },
    {
      "metadata": {
        "id": "OkbuL5drCVYJ",
        "colab_type": "text"
      },
      "cell_type": "markdown",
      "source": [
        "# 숙제 \n",
        "다음 수식을 계산 하시요\n",
        "```\n",
        "import math\n",
        "```\n",
        "\n",
        "$$\\frac{5-(1 -(3 - \\exp(\\frac{1}{8}))}{3(4-2)(2-\\frac{3}{8})} - 2!(-1)^3 + \\sin (0.98\\pi) $$"
      ]
    },
    {
      "metadata": {
        "id": "CnrvaDNhCGZg",
        "colab_type": "code",
        "colab": {}
      },
      "cell_type": "code",
      "source": [
        ""
      ],
      "execution_count": 0,
      "outputs": []
    },
    {
      "metadata": {
        "id": "KDeoD5bSD2py",
        "colab_type": "text"
      },
      "cell_type": "markdown",
      "source": [
        "\n",
        "#숫자의 이상한놈..\n",
        "```\n",
        "0.2 + 0.1\n",
        "9999999999999999.0 - 9999999999999998.0\n",
        "```\n",
        "\n",
        "\n",
        "$$(-1)^S * (1 + M) * 2^E$$\n",
        "\n",
        "해결책 \n",
        "```\n",
        "import fractions\n",
        "round\n",
        "```"
      ]
    },
    {
      "metadata": {
        "id": "fa2iPman_k1r",
        "colab_type": "text"
      },
      "cell_type": "markdown",
      "source": [
        "# 문자열\n",
        "출처([점프 투 파이선](https://wikidocs.net/13)) \n",
        "\n",
        "문자열이란?\n",
        "\n",
        "문자열(String)이란 문자, 단어 등으로 구성된 문자들의 집합을 의미한다. 예를 들어 다음과 같은 것들이 문자열이다.\n",
        "\n",
        "\n",
        "```\n",
        "\"Life is too short, You need Python\"\n",
        "\"a\"\n",
        "\"123\"\n",
        "```\n",
        "\n",
        "\n",
        "위의 문자열 예문을 보면 모두 큰따옴표(\" \")로 둘러싸여 있다. \"123은 숫자인데 왜 문자열이지?\"라는 의문이 드는 독자도 있을 것이다. 따옴표로 둘러싸여 있으면 모두 문자열이라고 보면 된다."
      ]
    },
    {
      "metadata": {
        "id": "MEmY_PC9AMtC",
        "colab_type": "code",
        "colab": {
          "base_uri": "https://localhost:8080/",
          "height": 34
        },
        "outputId": "cfc8a01d-eb97-4d95-d7b6-d4f0b6ea1b07"
      },
      "cell_type": "code",
      "source": [
        "#실습 "
      ],
      "execution_count": 58,
      "outputs": [
        {
          "output_type": "execute_result",
          "data": {
            "text/plain": [
              "'연합인포맥스'"
            ]
          },
          "metadata": {
            "tags": []
          },
          "execution_count": 58
        }
      ]
    },
    {
      "metadata": {
        "id": "HyCyoxWsAQDj",
        "colab_type": "text"
      },
      "cell_type": "markdown",
      "source": [
        "##문자열은 어떻게 만들고 사용할까?\n",
        "\n",
        "1. 큰따옴표로 양쪽 둘러싸기\n",
        "\n",
        "\"Hello World\"\n",
        "\n",
        "2. 작은따옴표로 양쪽 둘러싸기\n",
        "\n",
        "'Python is fun'\n",
        "\n",
        "3. 큰따옴표 3개를 연속으로 써서 양쪽 둘러싸기\n",
        "\n",
        "\"\"\"Life is too short, You need python\"\"\"\n",
        "\n",
        "4. 작은따옴표 3개를 연속으로 써서 양쪽 둘러싸기\n",
        "\n",
        "'''Life is too short, You need python'''\n",
        "\n",
        "\n",
        "\n",
        "---\n",
        "\n",
        "\n",
        "설명:  \\ ,개행문자"
      ]
    },
    {
      "metadata": {
        "id": "aQ-_n-akBSP7",
        "colab_type": "code",
        "colab": {
          "base_uri": "https://localhost:8080/",
          "height": 140
        },
        "outputId": "d74e7cec-a103-474c-8cd8-770ad6481e5e"
      },
      "cell_type": "code",
      "source": [
        "#실습 print 함수를 사용 "
      ],
      "execution_count": 62,
      "outputs": [
        {
          "output_type": "stream",
          "text": [
            "\n",
            "비행기 \n",
            "'비행기'\n",
            "\"비행기\"\n",
            "\"\"\"비행기\"\"\"\n",
            "'''비행기'''\n",
            "\n"
          ],
          "name": "stdout"
        }
      ]
    },
    {
      "metadata": {
        "id": "QiYQaK3GBUA7",
        "colab_type": "text"
      },
      "cell_type": "markdown",
      "source": [
        "##문자열 연산하기\n",
        "\n",
        "문자열 더해서 연결하기(Concatenation)\n",
        "\n",
        "\n",
        "```\n",
        ">>> head = \"Python\"\n",
        ">>> tail = \" is fun!\"\n",
        ">>> head + tail\n",
        "'Python is fun!'\n",
        "```\n",
        "\n"
      ]
    },
    {
      "metadata": {
        "id": "LRcBRT_6CBYK",
        "colab_type": "text"
      },
      "cell_type": "markdown",
      "source": [
        "##문자열 곱하기\n",
        "\n",
        "```\n",
        "\n",
        ">>> a = \"python\"\n",
        ">>> a * 2\n",
        "'pythonpython'\n",
        "```\n",
        "\n"
      ]
    },
    {
      "metadata": {
        "id": "5Qdcq9GmCO3i",
        "colab_type": "code",
        "colab": {
          "base_uri": "https://localhost:8080/",
          "height": 70
        },
        "outputId": "a1a55846-1c91-4647-f30c-0645ef2426d7"
      },
      "cell_type": "code",
      "source": [
        "#실습 print함수를 사용하시요."
      ],
      "execution_count": 57,
      "outputs": [
        {
          "output_type": "stream",
          "text": [
            "==================================================\n",
            "My Program\n",
            "==================================================\n"
          ],
          "name": "stdout"
        }
      ]
    },
    {
      "metadata": {
        "id": "rem124kXDmvN",
        "colab_type": "text"
      },
      "cell_type": "markdown",
      "source": [
        "#문자열 길이 구하기\n",
        "문자열의 길이는 다음과 같이 len 함수를 이용하면 구할 수 있다. len 함수는 print함수처럼 파이썬의 기본 내장함수이다.\n",
        "\n",
        "\n",
        "```\n",
        ">>> a = \"Life is too short\"\n",
        ">>> len(a)\n",
        "17\n",
        "```\n",
        "\n",
        "\n"
      ]
    },
    {
      "metadata": {
        "id": "106xzPIyHnoE",
        "colab_type": "code",
        "colab": {
          "base_uri": "https://localhost:8080/",
          "height": 34
        },
        "outputId": "ffc79afe-c372-4db1-8136-bfca8eda2257"
      },
      "cell_type": "code",
      "source": [
        "#실습 \n",
        "변수 = \"\"\"\n",
        "(서울=연합인포맥스) 남승표 최진우 기자 = 올해 1분기 경제성장률이 마이너스를 나타낸 가장 큰 원인으로 정부가 지목되면서 의문을 자아냈다. 올해 정부 예산이 대폭 늘었고 인건비를 뺀 정부 사업비 집행률도 호조를 보이고 있기 때문이다.\n",
        "\n",
        "기획재정부는 지난해 4분기 재정집행 실적이 워낙 좋았던 데 따른 기저효과라고 설명했지만, 실제 예산집행 절차 전반에 대한 점검이 필요한 것으로 보인다.\n",
        "\n",
        "26일 기재부의 월간 재정동향 4월호에 따르면 올해 들어 2월까지 정부의 누적 총지출은 89조3천억원으로 전년 동기 대비 12조8천억원 증가했다.\n",
        "\n",
        "계획 대비 집행실적을 따지는 진도율은 19.0%로, 전년동기 대비 1.3%포인트(p) 증가했다. 정부 예산이 11조5천억원, 진도율이 1.7%포인트 늘었다. 정부 기금은 1조2천억원, 진도율은 0.2%포인트 증가했다.\n",
        "\n",
        "출처 : 연합인포맥스(http://news.einfomax.co.kr)\n",
        "\"\"\"\n"
      ],
      "execution_count": 64,
      "outputs": [
        {
          "output_type": "stream",
          "text": [
            "466\n"
          ],
          "name": "stdout"
        }
      ]
    },
    {
      "metadata": {
        "id": "sB7saKLxIOqM",
        "colab_type": "text"
      },
      "cell_type": "markdown",
      "source": [
        "##문자열 인덱싱과 슬라이싱\n",
        "인덱싱(Indexing)이란 무엇인가를 \"가리킨다\"는 의미이고, 슬라이싱(Slicing)은 무엇인가를 \"잘라낸다\"는 의미이다. 이런 의미를 생각하면서 다음 내용을 살펴보자.\n",
        "\n",
        "문자열 인덱싱이란?\n",
        "\n",
        "```\n",
        ">>> a = \"Life is too short, You need Python\"\n",
        "```\n",
        "\n",
        "위 소스 코드에서 변수 a에 저장한 문자열의 각 문자마다 번호를 매겨 보면 다음과 같다.\n",
        "\n",
        "```\n",
        "Life is too short, You need Python\n",
        "0         1         2         3 \n",
        "0123456789012345678901234567890123\n",
        "```\n",
        "\n"
      ]
    },
    {
      "metadata": {
        "id": "k8wKaFmeJWJd",
        "colab_type": "code",
        "colab": {}
      },
      "cell_type": "code",
      "source": [
        "a = \"배대현\""
      ],
      "execution_count": 0,
      "outputs": []
    },
    {
      "metadata": {
        "id": "e_nLI16SJ5kV",
        "colab_type": "text"
      },
      "cell_type": "markdown",
      "source": [
        "##문자열 슬라이싱이란?\n",
        "그렇다면 \"Life is too short, You need Python\"이라는 문자열에서 단순히 한 문자만을 뽑아내는 것이 아니라 'Life' 또는 'You' 같은 단어들을 뽑아내는 방법은 없을까?\n",
        "\n",
        "\n",
        "```\n",
        ">>> a = \"Life is too short, You need Python\"\n",
        ">>> b = a[0] + a[1] + a[2] + a[3]\n",
        ">>> b\n",
        "'Life'\n",
        "\n",
        "\n",
        ">>> a = \"Life is too short, You need Python\"\n",
        ">>> a[0:4]\n",
        "'Life'\n",
        "\n",
        "\n",
        "```\n",
        "\n",
        "\n",
        "---\n",
        "\n",
        "\n",
        "설명: [-2:-1] , [:]\n",
        "\n"
      ]
    },
    {
      "metadata": {
        "id": "esPkGsnsKPnT",
        "colab_type": "code",
        "colab": {
          "base_uri": "https://localhost:8080/",
          "height": 34
        },
        "outputId": "7f3f319d-a6ca-4502-f20b-7560451143d2"
      },
      "cell_type": "code",
      "source": [
        "#실습\n",
        "a = \"대한만세\"\n",
        " "
      ],
      "execution_count": 83,
      "outputs": [
        {
          "output_type": "execute_result",
          "data": {
            "text/plain": [
              "'대한민국만세'"
            ]
          },
          "metadata": {
            "tags": []
          },
          "execution_count": 83
        }
      ]
    },
    {
      "metadata": {
        "id": "CyEBQOI2LdO-",
        "colab_type": "text"
      },
      "cell_type": "markdown",
      "source": [
        "##문자열 포매팅\n",
        "\n",
        "문자열에서 또 하나 알아야 할 것으로는 문자열 포매팅(Formatting)이 있다. 이것을 공부하기에 앞서 다음과 같은 문자열을 출력하는 프로그램을 작성했다고 가정해 보자.\n",
        "\n",
        "\"현재 온도는 18도입니다.\"\n",
        "\n",
        "시간이 지나서 20도가 되면 아래와 같은 문장을 출력한다.\n",
        "\n",
        "\"현재 온도는 20도입니다\"\n",
        "\n",
        "위의 두 문자열은 모두 같은데 20이라는 숫자와 18이라는 숫자만 다르다. 이렇게 문자열 내의 특정한 값을 바꿔야 할 경우가 있을 때 이것을 가능하게 해주는 것이 바로 문자열 포매팅 기법이다.\n",
        "\n",
        "\n",
        "\n",
        "```\n",
        ">>> name = \"배대현\"\n",
        ">>> age = 25\n",
        ">>> f\"안녕하세요, {name}님. 당신나이는 {age}세 입니다.\"\n",
        "'안녕하세요, 배대현님. 당신나이는 25세 입니다.'\n",
        "```\n",
        "```\n",
        ">>> f'{\"hi\":<10}'  # 왼쪽 정렬\n",
        "'hi        '\n",
        ">>> f'{\"hi\":>10}'  # 오른쪽 정렬\n",
        "'        hi'\n",
        ">>> f'{\"hi\":^10}'  # 가운데 정렬\n",
        "'    hi  \n",
        "```"
      ]
    },
    {
      "metadata": {
        "id": "jHDdumQ6MpU-",
        "colab_type": "code",
        "colab": {
          "base_uri": "https://localhost:8080/",
          "height": 52
        },
        "outputId": "a9eec5ff-c647-4968-f8a0-eed7d1b3dec5"
      },
      "cell_type": "code",
      "source": [
        "#실습\n",
        "name1 = \"배대현(99999)\" #왼쪽 10\n",
        "age1 =10 \n",
        "name2 = \"배대현(123)\"   #오른쪽 5\n",
        "age2 =999\n"
      ],
      "execution_count": 116,
      "outputs": [
        {
          "output_type": "stream",
          "text": [
            "안녕하세요, 배대현(99999)님. 당신나이는    10세 입니다.\n",
            "안녕하세요, 배대현(123)  님. 당신나이는   999세 입니다.\n"
          ],
          "name": "stdout"
        }
      ]
    },
    {
      "metadata": {
        "id": "AnQPjfDVQbQP",
        "colab_type": "text"
      },
      "cell_type": "markdown",
      "source": [
        "##공백 채우기는 다음과 같이 할 수 있다.\n",
        "\n",
        "\n",
        "```\n",
        ">>> f'{\"hi\":=^10}'  # 가운데 정렬하고 '=' 문자로 공백 채우기\n",
        "'====hi===='\n",
        ">>> f'{\"hi\":!<10}'  # 왼쪽 정렬하고 '!' 문자로 공백 채우기\n",
        "'hi!!!!!!!!'\n",
        "```\n",
        "\n",
        "##소수점은 다음과 같이 표현할 수 있다.\n",
        "```\n",
        ">>> y = 3.42134234\n",
        ">>> f'{y:0.4f}'  # 소수점 4자리까지만 표현\n",
        "'3.4213'\n",
        ">>> f'{y:10.4f}'  # 소수점 4자리까지 표현하고 총 자리수를 10으로 맞춤\n",
        "'    3.4213'\n",
        "```\n"
      ]
    },
    {
      "metadata": {
        "id": "Lvw5vmaiSGbv",
        "colab_type": "code",
        "colab": {
          "base_uri": "https://localhost:8080/",
          "height": 34
        },
        "outputId": "d1b99e60-df44-4055-bb96-b8a834e68456"
      },
      "cell_type": "code",
      "source": [
        "#숙제\n",
        "a = 9"
      ],
      "execution_count": 141,
      "outputs": [
        {
          "output_type": "execute_result",
          "data": {
            "text/plain": [
              "'zzzzzz9.00'"
            ]
          },
          "metadata": {
            "tags": []
          },
          "execution_count": 141
        }
      ]
    },
    {
      "metadata": {
        "id": "dCWYZdnHSgmO",
        "colab_type": "text"
      },
      "cell_type": "markdown",
      "source": [
        "#문자열 관련 함수들\n",
        "\n",
        "문자열 자료형은 자체적으로 가지고 있는 함수들이 있다. 이 함수들은 다른말로 문자열 내장함수라고 말한다. 이 내장함수를 사용하려면 문자열 변수 이름 뒤에 '.'를 붙인 다음에 함수 이름을 써주면 된다. 이제 문자열이 자체적으로 가지고 있는 내장 함수들에 대해서 알아보자.\n",
        "\n",
        "#문자 개수 세기(count)\n",
        "\n",
        "```\n",
        ">>> a = \"hobby\"\n",
        ">>> a.count('b')\n",
        "2\n",
        "```\n"
      ]
    },
    {
      "metadata": {
        "id": "g--ZiBjNTE-u",
        "colab_type": "code",
        "colab": {
          "base_uri": "https://localhost:8080/",
          "height": 34
        },
        "outputId": "587ff483-b48b-434d-cc01-e42461f0f482"
      },
      "cell_type": "code",
      "source": [
        "#실습\n",
        "변수 = \"\"\"\n",
        "(서울=연합인포맥스) 남승표 최진우 기자 = 올해 1분기 경제성장률이 마이너스를 나타낸 가장 큰 원인으로 정부가 지목되면서 의문을 자아냈다. 올해 정부 예산이 대폭 늘었고 인건비를 뺀 정부 사업비 집행률도 호조를 보이고 있기 때문이다.\n",
        "\n",
        "기획재정부는 지난해 4분기 재정집행 실적이 워낙 좋았던 데 따른 기저효과라고 설명했지만, 실제 예산집행 절차 전반에 대한 점검이 필요한 것으로 보인다.\n",
        "\n",
        "26일 기재부의 월간 재정동향 4월호에 따르면 올해 들어 2월까지 정부의 누적 총지출은 89조3천억원으로 전년 동기 대비 12조8천억원 증가했다.\n",
        "\n",
        "계획 대비 집행실적을 따지는 진도율은 19.0%로, 전년동기 대비 1.3%포인트(p) 증가했다. 정부 예산이 11조5천억원, 진도율이 1.7%포인트 늘었다. 정부 기금은 1조2천억원, 진도율은 0.2%포인트 증가했다.\n",
        "\n",
        "출처 : 연합인포맥스(http://news.einfomax.co.kr)\n",
        "\"\"\""
      ],
      "execution_count": 142,
      "outputs": [
        {
          "output_type": "execute_result",
          "data": {
            "text/plain": [
              "2"
            ]
          },
          "metadata": {
            "tags": []
          },
          "execution_count": 142
        }
      ]
    },
    {
      "metadata": {
        "id": "_fFY6FiNS2JP",
        "colab_type": "text"
      },
      "cell_type": "markdown",
      "source": [
        "##위치 알려주기1(find)\n",
        "\n",
        "\n",
        "```\n",
        ">>> a = \"Python is the best choice\"\n",
        ">>> a.find('b')\n",
        "14\n",
        ">>> a.find('k')\n",
        "-1\n",
        "```\n",
        "\n",
        "\n",
        "\n",
        "문자열 중 문자 b가 처음으로 나온 위치를 반환한다. 만약 찾는 문자나 문자열이 존재하지 않는다면 -1을 반환한다.\n",
        "\n",
        "※ 파이썬은 숫자를 0부터 세기 때문에 b의 위치는 15가아닌 14가 된다."
      ]
    },
    {
      "metadata": {
        "id": "jKApKCPlTY4Q",
        "colab_type": "code",
        "colab": {
          "base_uri": "https://localhost:8080/",
          "height": 34
        },
        "outputId": "b3cfc048-c4b3-42e1-ffea-1975edbd1d86"
      },
      "cell_type": "code",
      "source": [
        "#실습\n",
        "# 두번째 \"연합\" 위치 찾기"
      ],
      "execution_count": 150,
      "outputs": [
        {
          "output_type": "execute_result",
          "data": {
            "text/plain": [
              "431"
            ]
          },
          "metadata": {
            "tags": []
          },
          "execution_count": 150
        }
      ]
    },
    {
      "metadata": {
        "id": "922s74J0T7im",
        "colab_type": "text"
      },
      "cell_type": "markdown",
      "source": [
        "위치 알려주기2(index)\n",
        "\n",
        "```\n",
        ">>> a = \"Life is too short\"\n",
        ">>> a.index('t')\n",
        "8\n",
        ">>> a.index('k')\n",
        "Traceback (most recent call last):\n",
        "File \"<stdin>\", line 1, in <module>\n",
        "ValueError: substring not found\n",
        "```\n",
        "\n",
        "문자열 중 문자 t가 맨 처음으로 나온 위치를 반환한다. 만약 찾는 문자나 문자열이 존재하지 않는다면 오류를 발생시킨다. 앞의 find 함수와 다른 점은 문자열 안에 존재하지 않는 문자를 찾으면 오류가 발생한다는 점이다."
      ]
    },
    {
      "metadata": {
        "id": "kBM9bloAUr_R",
        "colab_type": "text"
      },
      "cell_type": "markdown",
      "source": [
        "## 문자열 삽입(join)\n",
        "\n",
        "\n",
        "```\n",
        ">>> \",\".join('abcd')\n",
        "'a,b,c,d'\n",
        "```\n",
        "\n",
        "abcd라는 문자열의 각각의 문자 사이에 ','를 삽입한다.\n",
        "\n",
        "join 함수는 문자열 뿐만 아니라 앞으로 배우게 될 리스트나 튜플을 입력으로 사용할 수 있다. (리스트와 튜플은 곧 배우게 될 내용이니 여기서는 잠시 눈으로만 살펴보기로 하자.)\n",
        "\n",
        "join 함수의 입력으로 리스트를 사용하는 예는 다음과 같다.\n",
        "```\n",
        ">>> \",\".join(['a', 'b', 'c', 'd'])\n",
        "'a,b,c,d'\n",
        "\n",
        "```"
      ]
    },
    {
      "metadata": {
        "id": "lDgTuzxaU8U_",
        "colab_type": "code",
        "colab": {
          "base_uri": "https://localhost:8080/",
          "height": 34
        },
        "outputId": "8de0680c-5990-4d3e-f937-f1ad33d4ea32"
      },
      "cell_type": "code",
      "source": [
        "#실습\n",
        "name = '연합인포맥스'"
      ],
      "execution_count": 155,
      "outputs": [
        {
          "output_type": "stream",
          "text": [
            "연~합~인~포~맥~스\n"
          ],
          "name": "stdout"
        }
      ]
    },
    {
      "metadata": {
        "id": "jhpV48AiVhTY",
        "colab_type": "text"
      },
      "cell_type": "markdown",
      "source": [
        "##소문자를 대문자로 바꾸기(upper)\n",
        "\n",
        "\n",
        "```\n",
        ">>> a = \"hi\"\n",
        ">>> a.upper()\n",
        "'HI'\n",
        "```\n",
        "\n",
        "\n",
        "upper() 함수는 소문자를 대문자로 바꾸어 준다. 만약 문자열이 이미 대문자라면 아무런 변화도 일어나지 않을 것이다."
      ]
    },
    {
      "metadata": {
        "id": "TB_DnX3z6zV8",
        "colab_type": "code",
        "colab": {}
      },
      "cell_type": "code",
      "source": [
        "#실습\n",
        "name = 'abc abc Abc'"
      ],
      "execution_count": 0,
      "outputs": []
    },
    {
      "metadata": {
        "id": "AHToXQWywaOx",
        "colab_type": "text"
      },
      "cell_type": "markdown",
      "source": [
        "##대문자를 소문자로 바꾸기(lower)\n",
        "\n",
        "\n",
        "```\n",
        ">>> a = \"HI\"\n",
        ">>> a.lower()\n",
        "'hi'\n",
        "```\n",
        "\n",
        "\n",
        "\n",
        "lower() 함수는 대문자를 소문자로 바꾸어 준다."
      ]
    },
    {
      "metadata": {
        "id": "KMIfWs5r688G",
        "colab_type": "code",
        "colab": {}
      },
      "cell_type": "code",
      "source": [
        "#실습\n",
        "name = 'abc abc Abc'"
      ],
      "execution_count": 0,
      "outputs": []
    },
    {
      "metadata": {
        "id": "REdkAqMbwcg8",
        "colab_type": "text"
      },
      "cell_type": "markdown",
      "source": [
        "왼쪽 공백 지우기(lstrip)\n",
        "\n",
        "\n",
        "```\n",
        ">>> a = \" hi \"\n",
        ">>> a.lstrip()\n",
        "'hi '\n",
        "```\n",
        "\n",
        "\n"
      ]
    },
    {
      "metadata": {
        "id": "wo6MZ9RS7BmE",
        "colab_type": "code",
        "colab": {
          "base_uri": "https://localhost:8080/",
          "height": 34
        },
        "outputId": "1bcaedf5-23cb-46ae-fa41-e4535dbbe84c"
      },
      "cell_type": "code",
      "source": [
        "#실습\n",
        "name = '--abc abc Abc--+ '"
      ],
      "execution_count": 160,
      "outputs": [
        {
          "output_type": "execute_result",
          "data": {
            "text/plain": [
              "'abc abc Abc'"
            ]
          },
          "metadata": {
            "tags": []
          },
          "execution_count": 160
        }
      ]
    },
    {
      "metadata": {
        "id": "f2eAH5SAwep2",
        "colab_type": "text"
      },
      "cell_type": "markdown",
      "source": [
        "오른쪽 공백 지우기(rstrip)\n",
        "\n",
        "```\n",
        ">>> a= \" hi \"\n",
        ">>> a.rstrip()\n",
        "' hi'\n",
        "```"
      ]
    },
    {
      "metadata": {
        "id": "S48aE0657VRH",
        "colab_type": "code",
        "colab": {}
      },
      "cell_type": "code",
      "source": [
        "#실습\n",
        "name = '--abc abc Abc--+ '"
      ],
      "execution_count": 0,
      "outputs": []
    },
    {
      "metadata": {
        "id": "HxwRAT6Bwipj",
        "colab_type": "text"
      },
      "cell_type": "markdown",
      "source": [
        "양쪽 공백 지우기(strip)\n",
        "\n",
        "```\n",
        ">>> a = \" hi \"\n",
        ">>> a.strip()\n",
        "'hi'\n",
        "```"
      ]
    },
    {
      "metadata": {
        "id": "IoAQW2Vs7WEu",
        "colab_type": "code",
        "colab": {}
      },
      "cell_type": "code",
      "source": [
        "#실습\n",
        "name = '--abc abc Abc--+ '"
      ],
      "execution_count": 0,
      "outputs": []
    },
    {
      "metadata": {
        "id": "aRF5AwEPwlDz",
        "colab_type": "text"
      },
      "cell_type": "markdown",
      "source": [
        "문자열 바꾸기(replace)\n",
        "\n",
        "```\n",
        ">>> a = \"Life is too short\"\n",
        ">>> a.replace(\"Life\", \"Your leg\")\n",
        "'Your leg is too short'\n",
        "```\n"
      ]
    },
    {
      "metadata": {
        "id": "2WC0r8YM7h2X",
        "colab_type": "code",
        "colab": {}
      },
      "cell_type": "code",
      "source": [
        "#실습\n",
        "text = \"\"\"26일 기재부의 월간 재정동향 4월호에 따르면 올해 들어 2월까지 정부의 누적 총지출은 89조3천억원으로 전년 동기 대비 12조8천억원 증가했다.\n",
        "\n",
        "출처 : 연합인포맥스(http://news.einfomax.co.kr)\"\"\""
      ],
      "execution_count": 0,
      "outputs": []
    },
    {
      "metadata": {
        "id": "PAw1urcr7oBX",
        "colab_type": "code",
        "colab": {
          "base_uri": "https://localhost:8080/",
          "height": 70
        },
        "outputId": "c18b99ad-0590-4c9e-ee8f-0d9e4ac8143e"
      },
      "cell_type": "code",
      "source": [
        "import re\n",
        "n = re.compile(r'\\d')\n",
        "print(n.sub(\"*\",text))"
      ],
      "execution_count": 205,
      "outputs": [
        {
          "output_type": "stream",
          "text": [
            "**일 기재부의 월간 재정동향 *월호에 따르면 올해 들어 *월까지 정부의 누적 총지출은 **조*천억원으로 전년 동기 대비 **조*천억원 증가했다.\n",
            "\n",
            "출처 : 연합인포맥스(http://news.einfomax.co.kr)\n"
          ],
          "name": "stdout"
        }
      ]
    },
    {
      "metadata": {
        "id": "PwPw1W09woJj",
        "colab_type": "text"
      },
      "cell_type": "markdown",
      "source": [
        "문자열 나누기(split)\n",
        "\n",
        "```\n",
        ">>> a = \"Life is too short\"\n",
        ">>> a.split()\n",
        "['Life', 'is', 'too', 'short']\n",
        ">>> a = \"a:b:c:d\"\n",
        ">>> a.split(':')\n",
        "['a', 'b', 'c', 'd']\n",
        "```\n"
      ]
    },
    {
      "metadata": {
        "id": "q4h101eM9KLF",
        "colab_type": "code",
        "colab": {
          "base_uri": "https://localhost:8080/",
          "height": 34
        },
        "outputId": "11601bfe-c502-470e-fb88-f2c336ca4551"
      },
      "cell_type": "code",
      "source": [
        "#숙제1\n",
        "text = \"\"\"[다음주 한국은행 및 금융위·금감원 일정] [정책/금융]\t| 2019-04-27 09:00\"\"\""
      ],
      "execution_count": 199,
      "outputs": [
        {
          "output_type": "execute_result",
          "data": {
            "text/plain": [
              "'(다음주 한국은행 및 금융위·금감원 일정) (정책/금융)'"
            ]
          },
          "metadata": {
            "tags": []
          },
          "execution_count": 199
        }
      ]
    },
    {
      "metadata": {
        "id": "PMdSkEa692qj",
        "colab_type": "code",
        "colab": {
          "base_uri": "https://localhost:8080/",
          "height": 34
        },
        "outputId": "5e611e26-f2dd-41ef-b664-cf40b0fb0d75"
      },
      "cell_type": "code",
      "source": [
        "#숙제2\n",
        "회사명 = \"효성중공업\"\n",
        "분기 = \"1\"\n",
        "영업이익 = \"217억\"\n",
        "분기비 = \"658.33%↑\"\n"
      ],
      "execution_count": 200,
      "outputs": [
        {
          "output_type": "stream",
          "text": [
            "효성중공업, 1분기 영업익 217억…전분기比 658.33%↑\n"
          ],
          "name": "stdout"
        }
      ]
    }
  ]
}