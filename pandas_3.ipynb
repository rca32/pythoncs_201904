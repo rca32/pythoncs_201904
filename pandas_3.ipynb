{
  "nbformat": 4,
  "nbformat_minor": 0,
  "metadata": {
    "colab": {
      "name": "pandas_3",
      "version": "0.3.2",
      "provenance": [],
      "toc_visible": true,
      "include_colab_link": true
    },
    "kernelspec": {
      "display_name": "Python 3",
      "language": "python",
      "name": "python3"
    }
  },
  "cells": [
    {
      "cell_type": "markdown",
      "metadata": {
        "id": "view-in-github",
        "colab_type": "text"
      },
      "source": [
        "<a href=\"https://colab.research.google.com/github/rca32/pythoncs_201904/blob/master/pandas_3.ipynb\" target=\"_parent\"><img src=\"https://colab.research.google.com/assets/colab-badge.svg\" alt=\"Open In Colab\"/></a>"
      ]
    },
    {
      "cell_type": "code",
      "metadata": {
        "id": "9kLs0B1DmDW2",
        "colab_type": "code",
        "colab": {}
      },
      "source": [
        "!git clone https://github.com/rca32/pythoncs_2019.git data\n",
        "!pip install seaborn"
      ],
      "execution_count": 0,
      "outputs": []
    },
    {
      "cell_type": "code",
      "metadata": {
        "id": "2-xuYlG1lq_d",
        "colab_type": "code",
        "colab": {}
      },
      "source": [
        "import pandas as pd\n",
        "import numpy as np\n",
        "import matplotlib.pyplot as plt"
      ],
      "execution_count": 0,
      "outputs": []
    },
    {
      "cell_type": "code",
      "metadata": {
        "id": "8laYb8h-mk8c",
        "colab_type": "code",
        "colab": {}
      },
      "source": [
        "#@title seaborn 소개 \n",
        "#https://datascienceschool.net/view-notebook/4c2d5ff1caab4b21a708cc662137bc65/\n",
        "\n",
        "try:\n",
        "    import seaborn\n",
        "except ImportError:\n",
        "    pass\n",
        "  \n",
        "%matplotlib inline"
      ],
      "execution_count": 0,
      "outputs": []
    },
    {
      "cell_type": "markdown",
      "metadata": {
        "id": "015Z6NcZlq_m",
        "colab_type": "text"
      },
      "source": [
        "# 타이타닉 Tabular data(테이블 형식) "
      ]
    },
    {
      "cell_type": "code",
      "metadata": {
        "id": "MFBfbInilq_o",
        "colab_type": "code",
        "colab": {}
      },
      "source": [
        "#@title 데이터 읽어 드리기\n",
        "df = pd.read_csv(\"data/titanic.csv\")"
      ],
      "execution_count": 0,
      "outputs": []
    },
    {
      "cell_type": "code",
      "metadata": {
        "id": "NhvnJHvzlq_r",
        "colab_type": "code",
        "colab": {}
      },
      "source": [
        "#@title 기본적 Data 출력\n",
        "df.head()"
      ],
      "execution_count": 0,
      "outputs": []
    },
    {
      "cell_type": "markdown",
      "metadata": {
        "id": "y6WwUVvRlq_v",
        "colab_type": "text"
      },
      "source": [
        "# 읽어 드린 df를 사용해서 아래의 질문에 대한 답을 구해보세요."
      ]
    },
    {
      "cell_type": "markdown",
      "metadata": {
        "id": "Az7VO5UQlq_w",
        "colab_type": "text"
      },
      "source": [
        "**승객의 연령 분포는 어떻게 됩니까?**"
      ]
    },
    {
      "cell_type": "code",
      "metadata": {
        "id": "zJ11msnelq_x",
        "colab_type": "code",
        "colab": {}
      },
      "source": [
        "#힌트 hist함수"
      ],
      "execution_count": 0,
      "outputs": []
    },
    {
      "cell_type": "markdown",
      "metadata": {
        "id": "-TL1XY1mlq_0",
        "colab_type": "text"
      },
      "source": [
        "**승객의 생존율은 남녀간에 어떻게 다릅니까?**"
      ]
    },
    {
      "cell_type": "code",
      "metadata": {
        "id": "mAxBYNh6lq_1",
        "colab_type": "code",
        "colab": {}
      },
      "source": [
        "#힌트 groupby,mean,agg,\n",
        "#http://pandas.pydata.org/pandas-docs/stable/user_guide/groupby.html\n"
      ],
      "execution_count": 0,
      "outputs": []
    },
    {
      "cell_type": "markdown",
      "metadata": {
        "id": "sjjhDb0Llq_6",
        "colab_type": "text"
      },
      "source": [
        "**아니면 다른 클래스간에 차이가 있습니까?**"
      ]
    },
    {
      "cell_type": "code",
      "metadata": {
        "id": "4Qqkegrflq_-",
        "colab_type": "code",
        "colab": {}
      },
      "source": [
        ""
      ],
      "execution_count": 0,
      "outputs": []
    },
    {
      "cell_type": "markdown",
      "metadata": {
        "id": "RFIAmS_PlrAD",
        "colab_type": "text"
      },
      "source": [
        "**젊은 사람들이 생존 할 가능성이 더 높습니까?**"
      ]
    },
    {
      "cell_type": "code",
      "metadata": {
        "id": "3uO8BI1ilrAF",
        "colab_type": "code",
        "outputId": "e99ba9a2-bf80-416c-e005-4f5a18af6446",
        "colab": {
          "base_uri": "https://localhost:8080/",
          "height": 34
        }
      },
      "source": [
        "#평균 생존률\n",
        "#25세 이하 평균 생존률"
      ],
      "execution_count": 0,
      "outputs": [
        {
          "output_type": "execute_result",
          "data": {
            "text/plain": [
              "0.3838383838383838"
            ]
          },
          "metadata": {
            "tags": []
          },
          "execution_count": 39
        }
      ]
    },
    {
      "cell_type": "markdown",
      "metadata": {
        "id": "oRPrpMQdv6wk",
        "colab_type": "text"
      },
      "source": [
        "# Indexing and selecting 심화"
      ]
    },
    {
      "cell_type": "code",
      "metadata": {
        "id": "iaOC6IKIv02b",
        "colab_type": "code",
        "colab": {}
      },
      "source": [
        "# series\n",
        "population = pd.Series({'Germany': 81.3, 'Belgium': 11.3, 'France': 64.3, 'United Kingdom': 64.9, 'Netherlands': 16.9})\n",
        "\n",
        "# dataframe\n",
        "data = {'country': ['Belgium', 'France', 'Germany', 'Netherlands', 'United Kingdom'],\n",
        "        'population': [11.3, 64.3, 81.3, 16.9, 64.9],\n",
        "        'area': [30510, 671308, 357050, 41526, 244820],\n",
        "        'capital': ['Brussels', 'Paris', 'Berlin', 'Amsterdam', 'Seoul']}\n",
        "countries = pd.DataFrame(data)\n"
      ],
      "execution_count": 0,
      "outputs": []
    },
    {
      "cell_type": "code",
      "metadata": {
        "id": "Q7U1h672cl6O",
        "colab_type": "code",
        "colab": {}
      },
      "source": [
        "\n",
        "countries = countries.set_index('country')\n",
        "countries"
      ],
      "execution_count": 0,
      "outputs": []
    },
    {
      "cell_type": "code",
      "metadata": {
        "id": "qKK4NXPDcpf-",
        "colab_type": "code",
        "colab": {}
      },
      "source": [
        "countries['area']"
      ],
      "execution_count": 0,
      "outputs": []
    },
    {
      "cell_type": "code",
      "metadata": {
        "id": "LeZlDFq7cm2t",
        "colab_type": "code",
        "colab": {}
      },
      "source": [
        "countries[['area', 'population']]"
      ],
      "execution_count": 0,
      "outputs": []
    },
    {
      "cell_type": "code",
      "metadata": {
        "id": "er67pt-Kcwqd",
        "colab_type": "code",
        "colab": {}
      },
      "source": [
        "countries['France':'Netherlands']"
      ],
      "execution_count": 0,
      "outputs": []
    },
    {
      "cell_type": "code",
      "metadata": {
        "id": "kUbugPopc9DK",
        "colab_type": "code",
        "colab": {}
      },
      "source": [
        "countries.loc['Germany', 'area']"
      ],
      "execution_count": 0,
      "outputs": []
    },
    {
      "cell_type": "code",
      "metadata": {
        "id": "vCTM2TFac_P2",
        "colab_type": "code",
        "colab": {}
      },
      "source": [
        "countries.loc['France':'Germany', ['area', 'population']]"
      ],
      "execution_count": 0,
      "outputs": []
    },
    {
      "cell_type": "code",
      "metadata": {
        "id": "wYDua6lHdB-W",
        "colab_type": "code",
        "colab": {}
      },
      "source": [
        "countries.iloc[0:2,1:3]"
      ],
      "execution_count": 0,
      "outputs": []
    },
    {
      "cell_type": "code",
      "metadata": {
        "id": "JaIDAOJOdD0P",
        "colab_type": "code",
        "colab": {}
      },
      "source": [
        "countries2 = countries.copy()\n",
        "countries2.loc['Belgium':'Germany', 'population'] = 10"
      ],
      "execution_count": 0,
      "outputs": []
    },
    {
      "cell_type": "code",
      "metadata": {
        "id": "ZMWQnn6ldJT2",
        "colab_type": "code",
        "colab": {}
      },
      "source": [
        "countries[countries['area'] > 100000]"
      ],
      "execution_count": 0,
      "outputs": []
    },
    {
      "cell_type": "code",
      "metadata": {
        "id": "skITj_oqdKYN",
        "colab_type": "code",
        "colab": {}
      },
      "source": [
        "EXERCISE: 인구밀도를 구하시요."
      ],
      "execution_count": 0,
      "outputs": []
    },
    {
      "cell_type": "code",
      "metadata": {
        "id": "nUBNUclHduH2",
        "colab_type": "code",
        "colab": {}
      },
      "source": [
        "EXERCISE: 인구밀도가 200이상인 국가를 구하세요"
      ],
      "execution_count": 0,
      "outputs": []
    },
    {
      "cell_type": "code",
      "metadata": {
        "id": "QBuR96MMd9cu",
        "colab_type": "code",
        "colab": {}
      },
      "source": [
        "EXERCISE: 인구밀도 비율을 을 구하시요(공식 인구밀도/인구밀도 평균)"
      ],
      "execution_count": 0,
      "outputs": []
    },
    {
      "cell_type": "code",
      "metadata": {
        "id": "Rho3CaITeeOv",
        "colab_type": "code",
        "colab": {}
      },
      "source": [
        "EXERCISE: UK의 수도를 정정 하시요"
      ],
      "execution_count": 0,
      "outputs": []
    },
    {
      "cell_type": "markdown",
      "metadata": {
        "id": "BJxZWacXl-fp",
        "colab_type": "text"
      },
      "source": [
        "# isin and string methods"
      ]
    },
    {
      "cell_type": "code",
      "metadata": {
        "id": "VlO8eqX0l9fo",
        "colab_type": "code",
        "colab": {}
      },
      "source": [
        "s = countries['capital']"
      ],
      "execution_count": 0,
      "outputs": []
    },
    {
      "cell_type": "code",
      "metadata": {
        "id": "vOB-SnTWmHh_",
        "colab_type": "code",
        "colab": {}
      },
      "source": [
        "s.isin(['Berlin', 'London'])"
      ],
      "execution_count": 0,
      "outputs": []
    },
    {
      "cell_type": "code",
      "metadata": {
        "id": "XG89TpidmIUH",
        "colab_type": "code",
        "outputId": "9219e81c-0fcc-4e53-e52e-c9d66cc7bf76",
        "colab": {
          "base_uri": "https://localhost:8080/",
          "height": 35
        }
      },
      "source": [
        "'Berlin'.startswith('B')"
      ],
      "execution_count": 0,
      "outputs": [
        {
          "output_type": "execute_result",
          "data": {
            "text/plain": [
              "True"
            ]
          },
          "metadata": {
            "tags": []
          },
          "execution_count": 63
        }
      ]
    },
    {
      "cell_type": "code",
      "metadata": {
        "id": "dx54VTO0m5vX",
        "colab_type": "code",
        "outputId": "93f49058-71d2-44fa-b645-d343d443e906",
        "colab": {
          "base_uri": "https://localhost:8080/",
          "height": 139
        }
      },
      "source": [
        "#https://pandas.pydata.org/pandas-docs/stable/user_guide/text.html\n",
        "countries['capital'].str.startswith('B')"
      ],
      "execution_count": 0,
      "outputs": [
        {
          "output_type": "execute_result",
          "data": {
            "text/plain": [
              "country\n",
              "Belgium            True\n",
              "France            False\n",
              "Germany            True\n",
              "Netherlands       False\n",
              "United Kingdom    False\n",
              "Name: capital, dtype: bool"
            ]
          },
          "metadata": {
            "tags": []
          },
          "execution_count": 69
        }
      ]
    },
    {
      "cell_type": "code",
      "metadata": {
        "id": "gxVU5l9vm9kn",
        "colab_type": "code",
        "colab": {}
      },
      "source": [
        "EXERCISE: 글자수가 7자 이상인 국가 찾기 "
      ],
      "execution_count": 0,
      "outputs": []
    },
    {
      "cell_type": "code",
      "metadata": {
        "id": "cvPYFXEapDp_",
        "colab_type": "code",
        "colab": {}
      },
      "source": [
        "EXERCISE:  'an'이 포함된   모든 국가 선택"
      ],
      "execution_count": 0,
      "outputs": []
    },
    {
      "cell_type": "code",
      "metadata": {
        "id": "lpdJb3g4qqmA",
        "colab_type": "code",
        "colab": {}
      },
      "source": [
        "\n",
        "countries.loc['Belgium', 'capital'] = 'Ghent'"
      ],
      "execution_count": 0,
      "outputs": []
    },
    {
      "cell_type": "code",
      "metadata": {
        "id": "GgJsV7XvqrD_",
        "colab_type": "code",
        "colab": {}
      },
      "source": [
        "countries['capital']['Belgium'] = 'Antwerp2'"
      ],
      "execution_count": 0,
      "outputs": []
    },
    {
      "cell_type": "code",
      "metadata": {
        "id": "xlpacPyMq8rx",
        "colab_type": "code",
        "colab": {}
      },
      "source": [
        "countries"
      ],
      "execution_count": 0,
      "outputs": []
    },
    {
      "cell_type": "code",
      "metadata": {
        "id": "7ow480DxqtQX",
        "colab_type": "code",
        "colab": {}
      },
      "source": [
        "#https://www.dataquest.io/blog/settingwithcopywarning/\n",
        "countries[countries['capital'] == 'Antwerp']['capital'] = 'Brussels'"
      ],
      "execution_count": 0,
      "outputs": []
    },
    {
      "cell_type": "code",
      "metadata": {
        "id": "NEfwG5yAscuM",
        "colab_type": "code",
        "colab": {}
      },
      "source": [
        "#https://drive.google.com/uc?id=0B3G70MlBnCgKal9UYTJSR2ZhSW8&export=download"
      ],
      "execution_count": 0,
      "outputs": []
    },
    {
      "cell_type": "code",
      "metadata": {
        "id": "OBu5gOkRs0-J",
        "colab_type": "code",
        "colab": {}
      },
      "source": [
        "EXERCISE: 명화는 몇편인가?"
      ],
      "execution_count": 0,
      "outputs": []
    },
    {
      "cell_type": "code",
      "metadata": {
        "id": "N-gRmOQ9tUMi",
        "colab_type": "code",
        "colab": {}
      },
      "source": [
        "EXERCISE: 가장 오래된 영화 5편"
      ],
      "execution_count": 0,
      "outputs": []
    },
    {
      "cell_type": "code",
      "metadata": {
        "id": "lyBqfRc8tcF4",
        "colab_type": "code",
        "colab": {}
      },
      "source": [
        "EXERCISE: Hamlet에 관련된 영화는 몇편인가"
      ],
      "execution_count": 0,
      "outputs": []
    },
    {
      "cell_type": "code",
      "metadata": {
        "id": "0eXKLi3ztezQ",
        "colab_type": "code",
        "colab": {}
      },
      "source": [
        "EXERCISE: Hamlet에 관련된 영화는 몇편인가"
      ],
      "execution_count": 0,
      "outputs": []
    },
    {
      "cell_type": "code",
      "metadata": {
        "id": "nsGlARPXuG91",
        "colab_type": "code",
        "colab": {}
      },
      "source": [
        "EXERCISE:  1950대 영화는 몇편인가?"
      ],
      "execution_count": 0,
      "outputs": []
    },
    {
      "cell_type": "code",
      "metadata": {
        "id": "cB_J36zfuWrw",
        "colab_type": "code",
        "colab": {}
      },
      "source": [
        "EXERCISE: 영화 '인셉션'에서 'n' 값으로 순위를 매기지 않는 배역은 몇개나 있남?"
      ],
      "execution_count": 0,
      "outputs": []
    },
    {
      "cell_type": "code",
      "metadata": {
        "id": "t1WkF0Tmu4YU",
        "colab_type": "code",
        "colab": {}
      },
      "source": [
        "EXERCISE: 영화 '인셉션'에서 'n' 값으로 순위를 매기는 배역은 몇개나 있남?"
      ],
      "execution_count": 0,
      "outputs": []
    },
    {
      "cell_type": "code",
      "metadata": {
        "id": "ovkA3B1VvE_y",
        "colab_type": "code",
        "colab": {}
      },
      "source": [
        "EXERCISE: Hamlet 명화의 역활갯수의 변화를 그리시요"
      ],
      "execution_count": 0,
      "outputs": []
    },
    {
      "cell_type": "code",
      "metadata": {
        "id": "qblZ14UDvnLF",
        "colab_type": "code",
        "colab": {}
      },
      "source": [
        ""
      ],
      "execution_count": 0,
      "outputs": []
    }
  ]
}