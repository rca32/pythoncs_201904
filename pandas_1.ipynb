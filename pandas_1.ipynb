{
  "nbformat": 4,
  "nbformat_minor": 0,
  "metadata": {
    "colab": {
      "name": "11-pandas 1",
      "version": "0.3.2",
      "provenance": [],
      "toc_visible": true,
      "include_colab_link": true
    },
    "kernelspec": {
      "display_name": "Python 3",
      "language": "python",
      "name": "python3"
    }
  },
  "cells": [
    {
      "cell_type": "markdown",
      "metadata": {
        "id": "view-in-github",
        "colab_type": "text"
      },
      "source": [
        "<a href=\"https://colab.research.google.com/github/rca32/pythoncs_201904/blob/master/pandas_1.ipynb\" target=\"_parent\"><img src=\"https://colab.research.google.com/assets/colab-badge.svg\" alt=\"Open In Colab\"/></a>"
      ]
    },
    {
      "cell_type": "code",
      "metadata": {
        "id": "BLSyrxFqj3dz",
        "colab_type": "code",
        "colab": {}
      },
      "source": [
        "!git clone https://github.com/rca32/pythoncs_2019.git data"
      ],
      "execution_count": 0,
      "outputs": []
    },
    {
      "cell_type": "markdown",
      "metadata": {
        "id": "PqkWPFm3jxxt",
        "colab_type": "text"
      },
      "source": [
        "##  Pandas 소개\n",
        "\n",
        "Pandas는 열 중심 데이터 분석 API입니다. 입력 데이터를 처리하고 분석하는 데 효과적인 도구이며, 여러 ML 프레임워크에서도 Pandas 데이터 구조를 입력으로 지원합니다. Pandas API를 전체적으로 소개하려면 길어지겠지만 중요한 개념은 꽤 간단하므로 아래에서 소개하도록 하겠습니다. 전체 내용을 참조할 수 있도록 Pandas 문서 사이트에서 광범위한 문서와 여러 가이드를 제공하고 있습니다.\n",
        "\n"
      ]
    },
    {
      "cell_type": "code",
      "metadata": {
        "id": "1Y5_iZUdjxxw",
        "colab_type": "code",
        "colab": {}
      },
      "source": [
        "%matplotlib inline\n",
        "import numpy as np\n",
        "import pandas as pd\n",
        "import matplotlib.pyplot as plt\n",
        "\n",
        "pd.options.display.max_rows = 8"
      ],
      "execution_count": 0,
      "outputs": []
    },
    {
      "cell_type": "markdown",
      "metadata": {
        "id": "tbNUoy4yjxx4",
        "colab_type": "text"
      },
      "source": [
        "# 1. 기능 시연\n",
        "\n",
        "#### Case 1: titanic survival data"
      ]
    },
    {
      "cell_type": "code",
      "metadata": {
        "id": "LiA13PmRjxx6",
        "colab_type": "code",
        "colab": {}
      },
      "source": [
        "df = pd.read_csv(\"data/titanic.csv\")"
      ],
      "execution_count": 0,
      "outputs": []
    },
    {
      "cell_type": "code",
      "metadata": {
        "id": "5tp_hFbJqApS",
        "colab_type": "code",
        "colab": {}
      },
      "source": [
        "!head data/titanic.csv"
      ],
      "execution_count": 0,
      "outputs": []
    },
    {
      "cell_type": "code",
      "metadata": {
        "id": "cLhyL1RMjxyA",
        "colab_type": "code",
        "colab": {}
      },
      "source": [
        "df.head()"
      ],
      "execution_count": 0,
      "outputs": []
    },
    {
      "cell_type": "markdown",
      "metadata": {
        "id": "yTznufKbpNfD",
        "colab_type": "text"
      },
      "source": [
        "Survived: 생존 여부 => 0 = No, 1 = Yes\n",
        "\n",
        "pclass: 티켓 등급 => 1 = 1st, 2 = 2nd, 3 = 3rd\n",
        "\n",
        "Sex: 성별\n",
        "\n",
        "Age: 나이\n",
        "\n",
        "Sibsp: 함께 탑승한 형제자매, 배우자의 수\n",
        "\n",
        "Parch: 함께 탑승한 부모, 자식의 수\n",
        "\n",
        "Ticket: 티켓 번호\n",
        "\n",
        "Fare: 운임\n",
        "\n",
        "Cabin: 객실 번호\n",
        "\n",
        "Embarked: 탑승 항구 => C = Cherbourg, Q = Queenstown, S = Southampton"
      ]
    },
    {
      "cell_type": "markdown",
      "metadata": {
        "id": "BYksO0uKjxyH",
        "colab_type": "text"
      },
      "source": [
        "## 이 data로 부터 다음의 질문에 답해보시요~"
      ]
    },
    {
      "cell_type": "markdown",
      "metadata": {
        "id": "jTL4lukAjxyJ",
        "colab_type": "text"
      },
      "source": [
        "**승객 들의 나이의 분포는?**"
      ]
    },
    {
      "cell_type": "code",
      "metadata": {
        "id": "7jujt16zjxyK",
        "colab_type": "code",
        "colab": {}
      },
      "source": [
        "df['Age'].hist()"
      ],
      "execution_count": 0,
      "outputs": []
    },
    {
      "cell_type": "markdown",
      "metadata": {
        "id": "jQYUOX4OjxyP",
        "colab_type": "text"
      },
      "source": [
        "**승객들의 생존율이 성별에 따라 어떻게 다른가?**"
      ]
    },
    {
      "cell_type": "code",
      "metadata": {
        "id": "DtgsSs5HjxyR",
        "colab_type": "code",
        "colab": {}
      },
      "source": [
        "df.groupby('Sex')[['Survived']].aggregate(lambda x: x.sum() / len(x))"
      ],
      "execution_count": 0,
      "outputs": []
    },
    {
      "cell_type": "markdown",
      "metadata": {
        "id": "aMNiilnFjxyW",
        "colab_type": "text"
      },
      "source": [
        "**아니면 다른 Pclass(등급) 사이에 어떻게 다른가?**"
      ]
    },
    {
      "cell_type": "code",
      "metadata": {
        "id": "kw6koZ50jxyY",
        "colab_type": "code",
        "colab": {}
      },
      "source": [
        "df.groupby('Pclass')['Survived'].aggregate(lambda x: x.sum() / len(x)).plot(kind='bar')"
      ],
      "execution_count": 0,
      "outputs": []
    },
    {
      "cell_type": "markdown",
      "metadata": {
        "id": "9zp6418Cjxyf",
        "colab_type": "text"
      },
      "source": [
        "#### Case 2: air quality measurement timeseries"
      ]
    },
    {
      "cell_type": "markdown",
      "metadata": {
        "collapsed": true,
        "id": "BQdS7nHfjxyj",
        "colab_type": "text"
      },
      "source": [
        "AirBase(유럽공기질 데이터 베이스): 유럽발 공기질 측정소 전시간 측정"
      ]
    },
    {
      "cell_type": "code",
      "metadata": {
        "id": "33qGGpqDp0xT",
        "colab_type": "code",
        "colab": {}
      },
      "source": [
        "!head data/20000101_20161231-NO2.csv"
      ],
      "execution_count": 0,
      "outputs": []
    },
    {
      "cell_type": "code",
      "metadata": {
        "id": "ahCp8VAnjxyl",
        "colab_type": "code",
        "colab": {}
      },
      "source": [
        "no2 = pd.read_csv('data/20000101_20161231-NO2.csv', sep=';', skiprows=[1], na_values=['n/d'], index_col=0, parse_dates=True)"
      ],
      "execution_count": 0,
      "outputs": []
    },
    {
      "cell_type": "code",
      "metadata": {
        "id": "OdGJAmK9jxyq",
        "colab_type": "code",
        "colab": {}
      },
      "source": [
        "data.head()"
      ],
      "execution_count": 0,
      "outputs": []
    },
    {
      "cell_type": "markdown",
      "metadata": {
        "id": "4RN3LMf-jxyv",
        "colab_type": "text"
      },
      "source": [
        "**대기 오염은  감소하는 추세를 보이는가?**"
      ]
    },
    {
      "cell_type": "code",
      "metadata": {
        "id": "AmN2vjZujxyx",
        "colab_type": "code",
        "colab": {}
      },
      "source": [
        "data['1999':].resample('M').mean().plot(ylim=[0,120])"
      ],
      "execution_count": 0,
      "outputs": []
    },
    {
      "cell_type": "code",
      "metadata": {
        "colab_type": "code",
        "id": "T6HKm8Mwq1el",
        "colab": {}
      },
      "source": [
        "data['1999':].resample('A').mean().plot(ylim=[0,100])"
      ],
      "execution_count": 0,
      "outputs": []
    },
    {
      "cell_type": "markdown",
      "metadata": {
        "id": "n_Ht7MSejxy7",
        "colab_type": "text"
      },
      "source": [
        "**평일과 주말의 시간대별 차이는?**"
      ]
    },
    {
      "cell_type": "code",
      "metadata": {
        "id": "nj4jrVGVjxy9",
        "colab_type": "code",
        "colab": {}
      },
      "source": [
        "data['weekday'] = data.index.weekday\n",
        "data['weekend'] = data['weekday'].isin([5, 6])\n",
        "data_weekend = data.groupby(['weekend', data.index.hour])['BASCH'].mean().unstack(level=0)\n",
        "data_weekend.plot()"
      ],
      "execution_count": 0,
      "outputs": []
    },
    {
      "cell_type": "markdown",
      "metadata": {
        "id": "8snwMWT7jxzE",
        "colab_type": "text"
      },
      "source": [
        " # Pandas 간단 소개\n",
        " \n",
        "[*Pandas*](http://Pandas.pydata.org/)는 열 중심 데이터 분석 API입니다. 입력 데이터를 처리하고 분석하는 데 효과적인 도구이며, 여러 ML 프레임워크에서도 *Pandas* 데이터 구조를 입력으로 지원합니다.\n",
        "*Pandas* API를 전체적으로 소개하려면 길어지겠지만 중요한 개념은 꽤 간단하므로 아래에서 소개하도록 하겠습니다. 전체 내용을 참조할 수 있도록 [*Pandas* 문서 사이트](http://pandas.pydata.org/pandas-docs/stable/index.html)에서 광범위한 문서와 여러 가이드를 제공하고 있습니다."
      ]
    },
    {
      "cell_type": "markdown",
      "metadata": {
        "id": "P9IpaW87jxzF",
        "colab_type": "text"
      },
      "source": [
        "#  `DataFrame`   `Series`\n",
        "\n",
        " \n",
        " "
      ]
    },
    {
      "cell_type": "code",
      "metadata": {
        "scrolled": false,
        "id": "M0EIs95WjxzH",
        "colab_type": "code",
        "colab": {}
      },
      "source": [
        "df"
      ],
      "execution_count": 0,
      "outputs": []
    },
    {
      "cell_type": "markdown",
      "metadata": {
        "id": "k8lRVeEmjxzK",
        "colab_type": "text"
      },
      "source": [
        "### DataFrame의 주요 속성\n",
        " "
      ]
    },
    {
      "cell_type": "code",
      "metadata": {
        "id": "WV4d_YTsjxzL",
        "colab_type": "code",
        "colab": {}
      },
      "source": [
        "df.index"
      ],
      "execution_count": 0,
      "outputs": []
    },
    {
      "cell_type": "code",
      "metadata": {
        "id": "zAsPukfcjxzQ",
        "colab_type": "code",
        "colab": {}
      },
      "source": [
        "df.columns"
      ],
      "execution_count": 0,
      "outputs": []
    },
    {
      "cell_type": "markdown",
      "metadata": {
        "id": "sr_7h260jxzT",
        "colab_type": "text"
      },
      "source": [
        "타입 점검.."
      ]
    },
    {
      "cell_type": "code",
      "metadata": {
        "id": "lZdugxXBjxzV",
        "colab_type": "code",
        "colab": {}
      },
      "source": [
        "df.dtypes"
      ],
      "execution_count": 0,
      "outputs": []
    },
    {
      "cell_type": "markdown",
      "metadata": {
        "id": "dkjqOs6mjxzY",
        "colab_type": "text"
      },
      "source": [
        "전체 data 상태 확인"
      ]
    },
    {
      "cell_type": "code",
      "metadata": {
        "id": "2FJ54MQMjxzZ",
        "colab_type": "code",
        "colab": {}
      },
      "source": [
        "df.info()"
      ],
      "execution_count": 0,
      "outputs": []
    },
    {
      "cell_type": "markdown",
      "metadata": {
        "id": "AqyVqojgjxzb",
        "colab_type": "text"
      },
      "source": [
        "values"
      ]
    },
    {
      "cell_type": "code",
      "metadata": {
        "scrolled": true,
        "id": "MUINDl4sjxzc",
        "colab_type": "code",
        "colab": {}
      },
      "source": [
        "df.values"
      ],
      "execution_count": 0,
      "outputs": []
    },
    {
      "cell_type": "markdown",
      "metadata": {
        "id": "FARXUB70jxzg",
        "colab_type": "text"
      },
      "source": [
        "dictionary 에서 df 만들기"
      ]
    },
    {
      "cell_type": "code",
      "metadata": {
        "id": "a9rysIQOjxzi",
        "colab_type": "code",
        "colab": {}
      },
      "source": [
        "data = {'국가': ['Belgium', 'France', 'Germany', 'Netherlands', 'United Kingdom'],\n",
        "        '인구': [11.3, 64.3, 81.3, 16.9, 64.9],\n",
        "        '지역': [30510, 671308, 357050, 41526, 244820],\n",
        "        '수도': ['Brussels', 'Paris', 'Berlin', 'Amsterdam', 'London']}\n",
        "df_countries = pd.DataFrame(data)\n",
        "df_countries"
      ],
      "execution_count": 0,
      "outputs": []
    },
    {
      "cell_type": "markdown",
      "metadata": {
        "id": "ou1j3S8hjxzk",
        "colab_type": "text"
      },
      "source": [
        "### Series\n",
        "\n",
        "Series은 1차원 data"
      ]
    },
    {
      "cell_type": "code",
      "metadata": {
        "id": "LNFpAuH3jxzl",
        "colab_type": "code",
        "colab": {}
      },
      "source": [
        "df['Age']"
      ],
      "execution_count": 0,
      "outputs": []
    },
    {
      "cell_type": "code",
      "metadata": {
        "id": "5OXSJHn-jxzn",
        "colab_type": "code",
        "colab": {}
      },
      "source": [
        "age = df['Age']"
      ],
      "execution_count": 0,
      "outputs": []
    },
    {
      "cell_type": "markdown",
      "metadata": {
        "id": "ZYkptFrnjxzp",
        "colab_type": "text"
      },
      "source": [
        "### `index` and `values`\n",
        "\n",
        "`columns` 이 없음..."
      ]
    },
    {
      "cell_type": "code",
      "metadata": {
        "id": "k76rmLM9jxzq",
        "colab_type": "code",
        "outputId": "89dd860b-3f47-438b-9b31-5980d0e22196",
        "colab": {
          "base_uri": "https://localhost:8080/",
          "height": 35
        }
      },
      "source": [
        "age.index"
      ],
      "execution_count": 0,
      "outputs": [
        {
          "output_type": "execute_result",
          "data": {
            "text/plain": [
              "RangeIndex(start=0, stop=891, step=1)"
            ]
          },
          "metadata": {
            "tags": []
          },
          "execution_count": 41
        }
      ]
    },
    {
      "cell_type": "code",
      "metadata": {
        "scrolled": false,
        "id": "N_FhQ3v7jxzt",
        "colab_type": "code",
        "colab": {}
      },
      "source": [
        "age.values[:10]"
      ],
      "execution_count": 0,
      "outputs": []
    },
    {
      "cell_type": "code",
      "metadata": {
        "id": "ffebyfFqjxzw",
        "colab_type": "code",
        "colab": {}
      },
      "source": [
        "age[0]"
      ],
      "execution_count": 0,
      "outputs": []
    },
    {
      "cell_type": "markdown",
      "metadata": {
        "id": "1wrWVzJCjxzz",
        "colab_type": "text"
      },
      "source": [
        "list와 차이"
      ]
    },
    {
      "cell_type": "code",
      "metadata": {
        "id": "ZSWx788hjxzz",
        "colab_type": "code",
        "colab": {}
      },
      "source": [
        "df = df.set_index('Name')\n",
        "df"
      ],
      "execution_count": 0,
      "outputs": []
    },
    {
      "cell_type": "code",
      "metadata": {
        "id": "g8RoE3jZjxz1",
        "colab_type": "code",
        "colab": {}
      },
      "source": [
        "age = df['Age']\n",
        "age"
      ],
      "execution_count": 0,
      "outputs": []
    },
    {
      "cell_type": "code",
      "metadata": {
        "id": "pIllFo8Xjxz2",
        "colab_type": "code",
        "outputId": "e63730b9-67a9-4f70-dfef-430f2b15e61a",
        "colab": {
          "base_uri": "https://localhost:8080/",
          "height": 35
        }
      },
      "source": [
        "age['Dooley, Mr. Patrick']"
      ],
      "execution_count": 0,
      "outputs": [
        {
          "output_type": "execute_result",
          "data": {
            "text/plain": [
              "32.0"
            ]
          },
          "metadata": {
            "tags": []
          },
          "execution_count": 45
        }
      ]
    },
    {
      "cell_type": "markdown",
      "metadata": {
        "id": "j5ckwFyGjxz4",
        "colab_type": "text"
      },
      "source": [
        "Eg element-wise operations:"
      ]
    },
    {
      "cell_type": "code",
      "metadata": {
        "id": "x5W9S5FQjxz4",
        "colab_type": "code",
        "colab": {}
      },
      "source": [
        "age * 1000"
      ],
      "execution_count": 0,
      "outputs": []
    },
    {
      "cell_type": "markdown",
      "metadata": {
        "id": "HEMVkpWgjxz6",
        "colab_type": "text"
      },
      "source": [
        "A range of methods:"
      ]
    },
    {
      "cell_type": "code",
      "metadata": {
        "id": "bpLCsTHQjxz7",
        "colab_type": "code",
        "outputId": "2a8cfaf1-47d9-45cb-ad5d-c1aa81053fbf",
        "colab": {
          "base_uri": "https://localhost:8080/",
          "height": 35
        }
      },
      "source": [
        "age.mean()"
      ],
      "execution_count": 0,
      "outputs": [
        {
          "output_type": "execute_result",
          "data": {
            "text/plain": [
              "29.69911764705882"
            ]
          },
          "metadata": {
            "tags": []
          },
          "execution_count": 50
        }
      ]
    },
    {
      "cell_type": "markdown",
      "metadata": {
        "id": "j32bpATVjxz-",
        "colab_type": "text"
      },
      "source": [
        "Fancy indexing"
      ]
    },
    {
      "cell_type": "code",
      "metadata": {
        "id": "_mLDfXsZjxz_",
        "colab_type": "code",
        "colab": {}
      },
      "source": [
        "age[age > 70]"
      ],
      "execution_count": 0,
      "outputs": []
    },
    {
      "cell_type": "markdown",
      "metadata": {
        "id": "yUkUh0jYjx0B",
        "colab_type": "text"
      },
      "source": [
        "pandas specific methods"
      ]
    },
    {
      "cell_type": "code",
      "metadata": {
        "id": "g9k_gubyjx0C",
        "colab_type": "code",
        "colab": {}
      },
      "source": [
        "df['Embarked'].value_counts()"
      ],
      "execution_count": 0,
      "outputs": []
    },
    {
      "cell_type": "markdown",
      "metadata": {
        "id": "dIk96enCjx0D",
        "colab_type": "text"
      },
      "source": [
        "## 연습 1\n",
        "\n",
        "운임 최대 값\n",
        "\n",
        "운임 중간값 "
      ]
    },
    {
      "cell_type": "markdown",
      "metadata": {
        "id": "mDXhIKNJjx0I",
        "colab_type": "text"
      },
      "source": [
        "## 연습 2\n",
        "\n",
        "전체 승객의 평균 생존율을 계산\n",
        " "
      ]
    },
    {
      "cell_type": "markdown",
      "metadata": {
        "id": "7c5UWcDhjx0L",
        "colab_type": "text"
      },
      "source": [
        "# data 읽기 쓰기"
      ]
    },
    {
      "cell_type": "markdown",
      "metadata": {
        "id": "pjB13r9Kjx0M",
        "colab_type": "text"
      },
      "source": [
        "\n",
        "* CSV, text\n",
        "* SQL database\n",
        "* Excel\n",
        "* HDF5\n",
        "* json\n",
        "* html\n",
        "* pickle\n",
        "* sas, stata\n",
        "* (parquet)\n",
        "* ..."
      ]
    },
    {
      "cell_type": "code",
      "metadata": {
        "id": "-P5H_llwjx0M",
        "colab_type": "code",
        "colab": {}
      },
      "source": [
        "#pd.read"
      ],
      "execution_count": 0,
      "outputs": []
    },
    {
      "cell_type": "code",
      "metadata": {
        "id": "dmv4J3y9jx0N",
        "colab_type": "code",
        "colab": {}
      },
      "source": [
        "#df.to"
      ],
      "execution_count": 0,
      "outputs": []
    },
    {
      "cell_type": "markdown",
      "metadata": {
        "id": "oi7xJhbFjx0P",
        "colab_type": "text"
      },
      "source": [
        " csv reader:"
      ]
    },
    {
      "cell_type": "code",
      "metadata": {
        "id": "HCGzRRgljx0P",
        "colab_type": "code",
        "colab": {}
      },
      "source": [
        "pd.read_csv?"
      ],
      "execution_count": 0,
      "outputs": []
    },
    {
      "cell_type": "markdown",
      "metadata": {
        "id": "BcSfIH0ojx0R",
        "colab_type": "text"
      },
      "source": [
        "거의 자동"
      ]
    },
    {
      "cell_type": "code",
      "metadata": {
        "id": "1Yr_Pnc0jx0R",
        "colab_type": "code",
        "colab": {}
      },
      "source": [
        "df = pd.read_csv(\"data/titanic.csv\")"
      ],
      "execution_count": 0,
      "outputs": []
    },
    {
      "cell_type": "code",
      "metadata": {
        "id": "Xkx-yFVpjx0T",
        "colab_type": "code",
        "colab": {}
      },
      "source": [
        "df.head()"
      ],
      "execution_count": 0,
      "outputs": []
    },
    {
      "cell_type": "code",
      "metadata": {
        "clear_cell": true,
        "id": "QnASy9lVjx0Y",
        "colab_type": "code",
        "colab": {}
      },
      "source": [
        " data/20000101_20161231-NO2.csv"
      ],
      "execution_count": 0,
      "outputs": []
    },
    {
      "cell_type": "code",
      "metadata": {
        "clear_cell": false,
        "id": "PtAvRP5mjx0b",
        "colab_type": "code",
        "colab": {}
      },
      "source": [
        "pd.read_json()"
      ],
      "execution_count": 0,
      "outputs": []
    },
    {
      "cell_type": "markdown",
      "metadata": {
        "colab_type": "text",
        "id": "IZ8xDknn3nYS"
      },
      "source": [
        "# 데이터 조사"
      ]
    },
    {
      "cell_type": "markdown",
      "metadata": {
        "colab_type": "text",
        "id": "v2eQLm0e3nYQ"
      },
      "source": [
        " \n",
        "\n",
        "`head` and `tail`"
      ]
    },
    {
      "cell_type": "code",
      "metadata": {
        "colab_type": "code",
        "id": "VuGNHB7h3nYN",
        "colab": {}
      },
      "source": [
        "df.head(3)"
      ],
      "execution_count": 0,
      "outputs": []
    },
    {
      "cell_type": "code",
      "metadata": {
        "colab_type": "code",
        "id": "r8b4u4SB3nYM",
        "colab": {}
      },
      "source": [
        "df.tail()"
      ],
      "execution_count": 0,
      "outputs": []
    },
    {
      "cell_type": "markdown",
      "metadata": {
        "colab_type": "text",
        "id": "N1rno38Z3nYL"
      },
      "source": [
        "`info()`"
      ]
    },
    {
      "cell_type": "code",
      "metadata": {
        "colab_type": "code",
        "id": "kkHavS6p3nYJ",
        "colab": {}
      },
      "source": [
        "no2.info()"
      ],
      "execution_count": 0,
      "outputs": []
    },
    {
      "cell_type": "markdown",
      "metadata": {
        "collapsed": true,
        "colab_type": "text",
        "id": "2diwGjLL3nYI"
      },
      "source": [
        "statistics `describe`:"
      ]
    },
    {
      "cell_type": "code",
      "metadata": {
        "colab_type": "code",
        "id": "zXeRKXCl3nYF",
        "colab": {}
      },
      "source": [
        "no2.describe()"
      ],
      "execution_count": 0,
      "outputs": []
    },
    {
      "cell_type": "markdown",
      "metadata": {
        "colab_type": "text",
        "id": "hQTuhwDO3nYE"
      },
      "source": [
        "visualizing"
      ]
    },
    {
      "cell_type": "code",
      "metadata": {
        "colab_type": "code",
        "id": "Lk-PUgZZ3nYB",
        "colab": {}
      },
      "source": [
        "no2.plot(kind='box', ylim=[0,250])"
      ],
      "execution_count": 0,
      "outputs": []
    },
    {
      "cell_type": "code",
      "metadata": {
        "colab_type": "code",
        "id": "77kM6GQE3nX-",
        "colab": {}
      },
      "source": [
        "no2['BASCH'].plot(kind='hist', bins=50)"
      ],
      "execution_count": 0,
      "outputs": []
    },
    {
      "cell_type": "markdown",
      "metadata": {
        "colab_type": "text",
        "id": "HL0H7izd3nX-"
      },
      "source": [
        "# 연습\n",
        "\n",
        "승객 나이 분포도 "
      ]
    },
    {
      "cell_type": "markdown",
      "metadata": {
        "colab_type": "text",
        "id": "GLr79Q2c3nX5"
      },
      "source": [
        "The default plo "
      ]
    },
    {
      "cell_type": "code",
      "metadata": {
        "colab_type": "code",
        "id": "wnsiihIY3nXx",
        "colab": {}
      },
      "source": [
        "no2.plot(figsize=(12,6))"
      ],
      "execution_count": 0,
      "outputs": []
    },
    {
      "cell_type": "markdown",
      "metadata": {
        "colab_type": "text",
        "id": "C4lkbgzm3nXv"
      },
      "source": [
        "너무 많네...\n"
      ]
    },
    {
      "cell_type": "markdown",
      "metadata": {
        "colab_type": "text",
        "id": "XDe8xzEW3nXq"
      },
      "source": [
        "500개만"
      ]
    },
    {
      "cell_type": "code",
      "metadata": {
        "colab_type": "code",
        "id": "GQ-OTqPg3nXe",
        "colab": {}
      },
      "source": [
        "no2[-500:].plot(figsize=(12,6))"
      ],
      "execution_count": 0,
      "outputs": []
    }
  ]
}