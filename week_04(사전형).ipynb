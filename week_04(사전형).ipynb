{
  "nbformat": 4,
  "nbformat_minor": 0,
  "metadata": {
    "colab": {
      "name": "week-04(사전형)",
      "version": "0.3.2",
      "provenance": [],
      "include_colab_link": true
    },
    "kernelspec": {
      "name": "python3",
      "display_name": "Python 3"
    }
  },
  "cells": [
    {
      "cell_type": "markdown",
      "metadata": {
        "id": "view-in-github",
        "colab_type": "text"
      },
      "source": [
        "<a href=\"https://colab.research.google.com/github/rca32/pythoncs_201904/blob/master/week_04(%EC%82%AC%EC%A0%84%ED%98%95).ipynb\" target=\"_parent\"><img src=\"https://colab.research.google.com/assets/colab-badge.svg\" alt=\"Open In Colab\"/></a>"
      ]
    },
    {
      "cell_type": "markdown",
      "metadata": {
        "id": "3Gv7dzTjKbMB",
        "colab_type": "text"
      },
      "source": [
        "#딕셔너리 자료형\n",
        "\n",
        "##딕셔너리란?\n",
        "\n",
        "\n",
        "---\n",
        "\n",
        "\n",
        "사람은 누구든지 \"이름\" = \"홍길동\", \"생일\" = \"몇 월 며칠\" 등으로 구분할 수 있다. 파이썬은 영리하게도 이러한 대응 관계를 나타낼 수 있는 자료형을 가지고 있다. 요즘 사용하는 대부분의 언어들도 이러한 대응 관계를 나타내는 자료형을 갖고 있는데, 이를 연관 배열(Associative array) 또는 해시(Hash)라고 한다.\n",
        "\n",
        "{Key1:Value1, Key2:Value2, Key3:Value3, ...}\n",
        "\n",
        "\n",
        "\n",
        "```\n",
        ">>> dic = {'name':'pey', 'phone':'0119993323', 'birth': '1118'}\n",
        "\n",
        ">>> a = {1: 'hi'}\n",
        "\n",
        ">>> a = { 'a': [1,2,3]}\n",
        "\n",
        "```\n",
        "\n"
      ]
    },
    {
      "cell_type": "code",
      "metadata": {
        "id": "oNff4A3eM1lu",
        "colab_type": "code",
        "outputId": "5ae71df8-b6cd-400d-e8c8-59e5a74eaf42",
        "colab": {
          "base_uri": "https://localhost:8080/",
          "height": 34
        }
      },
      "source": [
        "#연습 \n",
        "{\"연합\":[1,2,3],1:54}"
      ],
      "execution_count": 0,
      "outputs": [
        {
          "output_type": "execute_result",
          "data": {
            "text/plain": [
              "{1: 54, '연합': [1, 2, 3]}"
            ]
          },
          "metadata": {
            "tags": []
          },
          "execution_count": 1
        }
      ]
    },
    {
      "cell_type": "markdown",
      "metadata": {
        "id": "Vn7R6chrK2Xp",
        "colab_type": "text"
      },
      "source": [
        "##딕셔너리 쌍 추가, 삭제하기\n",
        "딕셔너리 쌍을 추가하는 방법과 삭제하는 방법을 살펴보자. 1번은 딕셔너리에 쌍을 추가하는 예이다.\n",
        "\n",
        "다음의 예를 함께 따라 해보자.\n",
        "\n",
        "딕셔너리 쌍 추가하기\n",
        "\n",
        "\n",
        "```\n",
        ">>> a = {1: 'a'}\n",
        ">>> a[2] = 'b'\n",
        ">>> a\n",
        "{1: 'a', 2: 'b'}\n",
        "```\n",
        "\n",
        "\n",
        "\n",
        "{1: 'a'}라는 딕셔너리에 a[2] = 'b'와 같이 입력하면 딕셔너리 a에 Key와 Value가 각각 2와'b'인 2 : 'b'라는 딕셔너리 쌍이 추가된다.\n",
        "```\n",
        ">>> a['name'] = 'pey'\n",
        ">>> a\n",
        "{1: 'a', 2: 'b', 'name':'pey'}\n",
        "```\n",
        "딕셔너리 a에 'name': 'pey'라는 쌍이 추가되었다.\n",
        "\n",
        "```\n",
        ">>> a[3] = [1,2,3]\n",
        ">>> a\n",
        "{1: 'a', 2: 'b', 'name': 'pey', 3: [1, 2, 3]}\n",
        "```\n",
        "\n",
        "Key는 3, Value는 [1, 2, 3]을 가지는 한 쌍이 또 추가되었다.\n",
        "\n",
        "딕셔너리 요소 삭제하기\n",
        "\n",
        "```\n",
        ">>> del a[1]\n",
        ">>> a\n",
        "{2: 'b', 'name': 'pey', 3: [1, 2, 3]}\n",
        "```\n",
        "위의 예제는 딕셔너리 요소를 지우는 방법을 보여준다. del 함수를 사용해서 del a[key]처럼 입력하면 지정한 key에 해당하는 {key : value} 쌍이 삭제된다."
      ]
    },
    {
      "cell_type": "code",
      "metadata": {
        "id": "3cHYE1dWNQuu",
        "colab_type": "code",
        "outputId": "4a6fe3b5-c3ea-43b7-c5f4-0259f5cba155",
        "colab": {
          "base_uri": "https://localhost:8080/",
          "height": 34
        }
      },
      "source": [
        "#실습 \n",
        "a = {\"연합\":{\"연합\":{\"연합\":[123],\"인포맥스\":\"만세\"}},1:54}\n",
        "print(a)"
      ],
      "execution_count": 0,
      "outputs": [
        {
          "output_type": "stream",
          "text": [
            "{'연합': {'연합': {'인포맥스': '만세'}}, 1: 54}\n"
          ],
          "name": "stdout"
        }
      ]
    },
    {
      "cell_type": "markdown",
      "metadata": {
        "id": "X4O4OsEqLZro",
        "colab_type": "text"
      },
      "source": [
        "##딕셔너리를 사용하는 방법\n",
        "\n",
        "\n",
        "---\n",
        "\n",
        "\n",
        "\"딕셔너리는 주로 어떤 것을 표현하는 데 사용할까?\"라는 의문이 들 것이다. 예를 들어 4명의 사람이 있다고 가정하고, 각자의 특기를 표현할 수 있는 좋은 방법에 대해서 생각해 보자. 리스트나 문자열로는 표현하기가 상당히 까다로울 것이다. 하지만 파이썬의 딕셔너리를 사용한다면 이 상황을 표현하기가 정말 쉽다.\n",
        "\n",
        "다음의 예를 보자.\n",
        "\n",
        "{\"김연아\":\"피겨스케이팅\", \"박찬호\":\"야구\", \"박지성\":\"축구\", \"귀도\":\"파이썬\"}\n",
        "사람 이름과 특기를 한 쌍으로 하는 딕셔너리이다. 정말 간편하지 않은가? 지금껏 우리는 딕셔너리를 만드는 방법에 대해서만 살펴보았는데 딕셔너리를 제대로 활용하기 위해서는 알아야 할 것들이 있다. 이제부터 하나씩 알아보도록 하자.\n",
        "\n",
        "딕셔너리에서 Key 사용해 Value 얻기\n",
        "다음의 예를 살펴보자.\n",
        "```\n",
        ">>> grade = {'pey': 10, 'julliet': 99}\n",
        ">>> grade['pey']\n",
        "10\n",
        ">>> grade['julliet']\n",
        "99\n",
        "```\n",
        "리스트나 튜플, 문자열은 요소값을 얻어내고자 할 때 인덱싱이나 슬라이싱 기법 중 하나를 이용했다. 하지만 딕셔너리는 단 한 가지 방법뿐이다. 바로 Key를 사용해서 Value를 얻어내는 방법이다. 위의 예에서 'pey'라는 Key의 Value를 얻기 위해 grade['pey']를 사용한 것처럼 어떤 Key의 Value를 얻기 위해서는 딕셔너리변수명[Key]를 사용한다. (예:grade['pey'])\n",
        "\n",
        "몇 가지 예를 더 보자.\n",
        "```\n",
        ">>> a = {1:'a', 2:'b'}\n",
        ">>> a[1]\n",
        "'a'\n",
        ">>> a[2]\n",
        "'b'\n",
        "```\n",
        "먼저 a라는 변수에 {1:'a', 2:'b'}라는 딕셔너리를 대입하였다. 위의 예에서 볼 수 있듯이 a[1]은 'a'라는 값을 돌려준다. 여기서 a[1]이 의미하는 것은 리스트나 튜플의 a[1]과는 전혀 다르다. 딕셔너리 변수에서 [ ] 안의 숫자 1은 두 번째 요소를 뜻하는 것이 아니라 Key에 해당하는 1을 나타낸다. 앞에서도 말했듯이 딕셔너리는 리스트나 튜플에 있는 인덱싱 방법을 적용할수 없다. 따라서 a[1]은 딕셔너리 {1:'a', 2:'b'}에서 Key가 1인 것의 Value인 'a'를 돌려주게 된다. a[2] 역시 마찬가지이다.\n",
        "\n",
        "이번에는 a라는 변수에 앞의 예에서 사용했던 딕셔너리의 Key와 Value를 뒤집어 놓은 딕셔너리를 대입해 보자.\n",
        "```\n",
        ">>> a = {'a':1, 'b':2}\n",
        ">>> a['a']\n",
        "1\n",
        ">>> a['b']\n",
        "2\n",
        "```\n",
        "역시 a['a'], a['b']처럼 Key를 사용해서 Value를 얻을 수 있다. 정리하면, 딕셔너리 a는 a[Key]로 입력해서 Key에 해당하는 Value를 얻는다.\n",
        "\n",
        "다음 예는 이전에 한 번 언급했던 딕셔너리인데 Key를 사용해서 Value를 얻는 방법을 잘 보여 준다.\n",
        "\n",
        "```\n",
        ">>> dic = {'name':'pey', 'phone':'0119993323', 'birth': '1118'}\n",
        ">>> dic['name']\n",
        "'pey'\n",
        ">>> dic['phone']\n",
        "'0119993323'\n",
        ">>> dic['birth']\n",
        "'1118'\n",
        "```"
      ]
    },
    {
      "cell_type": "code",
      "metadata": {
        "id": "FMwGAWqWN5lk",
        "colab_type": "code",
        "outputId": "a69c08fe-df9b-43cd-cda9-8a0e1ecab674",
        "colab": {
          "base_uri": "https://localhost:8080/",
          "height": 34
        }
      },
      "source": [
        "#실습\n",
        "dic = {'name':'pey', 'phone':'0119993323', 'birth': '1118',(1,2):\"비행기\"}\n"
      ],
      "execution_count": 0,
      "outputs": [
        {
          "output_type": "stream",
          "text": [
            "비행기\n"
          ],
          "name": "stdout"
        }
      ]
    },
    {
      "cell_type": "markdown",
      "metadata": {
        "id": "7K4MHX1tLwUX",
        "colab_type": "text"
      },
      "source": [
        "###딕셔너리 만들 때 주의할 사항\n",
        "먼저 딕셔너리에서 Key는 고유한 값이므로 중복되는 Key 값을 설정해 놓으면 하나를 제외한 나머지 것들이 모두 무시된다는 점을 주의해야 한다. 다음 예에서 볼 수 있듯이 동일한 Key가 2개 존재할 경우 1:'a'라는 쌍이 무시된다.\n",
        "```\n",
        ">>> a = {1:'a', 1:'b'}\n",
        ">>> a\n",
        "{1: 'b'}\n",
        "```\n",
        "이렇게 Key가 중복되었을 때 1개를 제외한 나머지 Key:Value 값이 모두 무시되는 이유는 Key를 통해서 Value를 얻는 딕셔너리의 특징에서 비롯된다. 즉, 동일한 Key가 존재하면 어떤 Key에 해당하는 Value를 불러야 할지 알 수 없기 때문이다.\n",
        "\n",
        "또 한 가지 주의해야 할 사항은 Key에 리스트는 쓸 수 없다는 것이다. 하지만 튜플은 Key로 쓸 수 있다. 딕셔너리의 Key로 쓸 수 있느냐 없느냐는 Key가 변하는 값인지 변하지 않는 값인지에 달려 있다. 리스트는 그 값이 변할 수 있기 때문에 Key로 쓸 수 없는 것이다. 아래 예처럼 리스트를 Key로 설정하면 리스트를 키 값으로 사용할 수 없다는 오류가 발생한다.\n",
        "```\n",
        ">>> a = {[1,2] : 'hi'}\n",
        "Traceback (most recent call last):\n",
        "  File \"<stdin>\", line 1, in <module>\n",
        "TypeError: unhashable type: 'list'\n",
        "```\n",
        "따라서 딕셔너리의 Key 값으로 딕셔너리를 사용할 수 없음은 당연한 얘기가 될 것이다. 단, Value에는 변하는 값이든 변하지 않는 값이든 상관없이 아무 값이나 넣을 수 있다."
      ]
    },
    {
      "cell_type": "markdown",
      "metadata": {
        "id": "wHJtDsuzL7dP",
        "colab_type": "text"
      },
      "source": [
        "##딕셔너리 관련 함수들\n",
        "\n",
        "\n",
        "---\n",
        "\n",
        "\n",
        "딕셔너리를 자유자재로 사용하기 위해 딕셔너리가 자체적으로 가지고 있는 관련 함수들을 사용해 보도록 하자.\n",
        "\n",
        "###Key 리스트 만들기(keys)\n",
        "```\n",
        ">>> a = {'name': 'pey', 'phone': '0119993323', 'birth': '1118'}\n",
        ">>> a.keys()\n",
        "dict_keys(['name', 'phone', 'birth'])\n",
        "```\n",
        "a.keys()는 딕셔너리 a의 Key만을 모아서 dict_keys라는 객체를 리턴한다.\n",
        "\n",
        " \n",
        "dict_keys 객체는 다음과 같이 for문에서 사용할 수 있다. 리스트를 사용하는 것과 차이가 없지만, 리스트 고유의 함수인 append, insert, pop, remove, sort등의 함수를 수행할 수는 없다.\n",
        "```\n",
        ">>> for k in a.keys():\n",
        "...    print(k)\n",
        "...\n",
        "name\n",
        "phone\n",
        "birth\n",
        "```\n",
        "dict_keys 객체를 리스트로 변환하려면 다음과 같이 하면 된다.\n",
        "```\n",
        ">>> list(a.keys())\n",
        "['name', 'phone', 'birth']\n",
        "```"
      ]
    },
    {
      "cell_type": "code",
      "metadata": {
        "id": "yRckaHSHn5or",
        "colab_type": "code",
        "colab": {
          "base_uri": "https://localhost:8080/",
          "height": 34
        },
        "outputId": "46d7adf6-aee7-436a-9181-1129fffd65ba"
      },
      "source": [
        "#실습\n",
        "a = {'name': 'pey', 'phone': '0119993323', 'birth': '1118'}\n",
        "a.keys()"
      ],
      "execution_count": 10,
      "outputs": [
        {
          "output_type": "execute_result",
          "data": {
            "text/plain": [
              "dict_keys(['name', 'phone', 'birth'])"
            ]
          },
          "metadata": {
            "tags": []
          },
          "execution_count": 10
        }
      ]
    },
    {
      "cell_type": "markdown",
      "metadata": {
        "id": "of5bQ1Has4ng",
        "colab_type": "text"
      },
      "source": [
        "###Value 리스트 만들기(values)\n",
        "```\n",
        ">>> a.values()\n",
        "dict_values(['pey', '0119993323', '1118'])\n",
        "```\n",
        "Key를 얻는 것과 마찬가지 방법으로 Value만 얻고 싶다면 a.values()처럼 values 함수를 사용하면 된다. values 함수를 호출하면 dict_values 객체가 리턴되는데, dict_values 객체 역시 dict_keys 객체와 마찬가지로 리스트를 사용하는 것과 동일하게 사용하면 된다."
      ]
    },
    {
      "cell_type": "code",
      "metadata": {
        "id": "4DCSBMgCt4R3",
        "colab_type": "code",
        "colab": {}
      },
      "source": [
        "#실습"
      ],
      "execution_count": 0,
      "outputs": []
    },
    {
      "cell_type": "markdown",
      "metadata": {
        "id": "oyFksGC4td2g",
        "colab_type": "text"
      },
      "source": [
        "Key, Value 쌍 얻기(items)\n",
        "```\n",
        ">>> a.items()\n",
        "dict_items([('name', 'pey'), ('phone', '0119993323'), ('birth', '1118')])\n",
        "```\n",
        "items 함수는 key와 value의 쌍을 튜플로 묶은 값을 dict_items 객체로 돌려준다."
      ]
    },
    {
      "cell_type": "code",
      "metadata": {
        "id": "pvFtFfukt5sP",
        "colab_type": "code",
        "colab": {}
      },
      "source": [
        "#실습"
      ],
      "execution_count": 0,
      "outputs": []
    },
    {
      "cell_type": "markdown",
      "metadata": {
        "id": "JKGZVubPtecv",
        "colab_type": "text"
      },
      "source": [
        "###Key: Value 쌍 모두 지우기(clear)\n",
        "```\n",
        ">>> a.clear()\n",
        ">>> a\n",
        "{}\n",
        "```\n",
        "clear() 함수는 딕셔너리 안의 모든 요소를 삭제한다. 빈 리스트를 [ ], 빈 튜플을 ()로 표현하는 것과 마찬가지로 빈 딕셔너리도 { }로 표현한다.\n",
        "\n"
      ]
    },
    {
      "cell_type": "code",
      "metadata": {
        "id": "Y9qaAh-It_yf",
        "colab_type": "code",
        "colab": {}
      },
      "source": [
        "#실습"
      ],
      "execution_count": 0,
      "outputs": []
    },
    {
      "cell_type": "markdown",
      "metadata": {
        "id": "aZvmIQeUtojH",
        "colab_type": "text"
      },
      "source": [
        "Key로 Value얻기(get)\n",
        "```\n",
        ">>> a = {'name':'pey', 'phone':'0119993323', 'birth': '1118'}\n",
        ">>> a.get('name')\n",
        "'pey'\n",
        ">>> a.get('phone')\n",
        "'0119993323'\n",
        "```\n",
        "get(x) 함수는 x라는 key에 대응되는 value를 돌려준다. 앞서 살펴보았듯이 a.get('name')은 a['name']을 사용했을 때와 동일한 결과값을 리턴한다.\n",
        "\n",
        "다만, 다음 예제에서 볼 수 있듯이 a['nokey']처럼 a 딕셔너리에 없는 키로 값을 가져오려고 할 경우 a['nokey']는 Key 오류를 발생시키고 a.get('nokey')는 None을 리턴한다는 차이가 있다. 어떤것을 사용할지는 여러분의 선택이다.\n",
        "\n",
        "※ 여기서 None은 \"거짓\"이라는 뜻이라고만 알아두자.\n",
        "```\n",
        ">>> a = {'name':'pey', 'phone':'0119993323', 'birth': '1118'}\n",
        ">>> print(a.get('nokey'))\n",
        "None\n",
        ">>> print(a['nokey'])\n",
        "Traceback (most recent call last):\n",
        "  File \"<stdin>\", line 1, in <module>\n",
        "KeyError: 'nokey'\n",
        "```\n",
        "\n",
        "\n",
        "\n",
        "딕셔너리 안에 찾으려는 key 값이 없을 경우 미리 정해 둔 디폴트 값을 대신 가져오게 하고 싶을 때에는 get(x, '디폴트 값')을 사용하면 편리하다.\n",
        "```\n",
        ">>> a.get('foo', 'bar')\n",
        "'bar'\n",
        "```\n",
        "a 딕셔너리에는 'foo'에 해당하는 값이 없다. 따라서 디폴트 값인 'bar'를 리턴한다.\n",
        "\n",
        "해당 Key가 딕셔너리 안에 있는지 조사하기(in)\n",
        "```\n",
        ">>> a = {'name':'pey', 'phone':'0119993323', 'birth': '1118'}\n",
        ">>> 'name' in a\n",
        "True\n",
        ">>> 'email' in a\n",
        "False\n",
        "```\n",
        "'name'이라는 문자열은 a 딕셔너리의 key 중 하나이다. 따라서 'name' in a를 호출하면 참(True)을 리턴한다. 반대로 'email' 은 a 딕셔너리 안에 존재하지 않는 key이므로 거짓(False)을 리턴하게 된다."
      ]
    },
    {
      "cell_type": "code",
      "metadata": {
        "id": "OYVc__CutSGy",
        "colab_type": "code",
        "colab": {}
      },
      "source": [
        "#실습\n",
        " "
      ],
      "execution_count": 0,
      "outputs": []
    },
    {
      "cell_type": "code",
      "metadata": {
        "id": "9MS7vEXqPFvD",
        "colab_type": "code",
        "colab": {}
      },
      "source": [
        "#중급\n",
        "from collections import Counter,defaultdict"
      ],
      "execution_count": 0,
      "outputs": []
    }
  ]
}